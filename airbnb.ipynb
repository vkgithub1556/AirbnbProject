{
  "nbformat": 4,
  "nbformat_minor": 0,
  "metadata": {
    "colab": {
      "name": "airbnb.ipynb",
      "provenance": [],
      "collapsed_sections": [],
      "mount_file_id": "1CbAgHP2bZwA4CFDT6j54rYw3uE35xZpg",
      "authorship_tag": "ABX9TyP9pi0YoH+vxygt4t9PohNa",
      "include_colab_link": true
    },
    "kernelspec": {
      "name": "python3",
      "display_name": "Python 3"
    }
  },
  "cells": [
    {
      "cell_type": "markdown",
      "metadata": {
        "id": "view-in-github",
        "colab_type": "text"
      },
      "source": [
        "<a href=\"https://colab.research.google.com/github/vkgithub1556/AirbnbProject/blob/master/airbnb.ipynb\" target=\"_parent\"><img src=\"https://colab.research.google.com/assets/colab-badge.svg\" alt=\"Open In Colab\"/></a>"
      ]
    },
    {
      "cell_type": "code",
      "metadata": {
        "id": "gpxYqhN0Kfko",
        "colab_type": "code",
        "colab": {
          "base_uri": "https://localhost:8080/",
          "height": 72
        },
        "outputId": "81ff0a09-47e5-42c8-917e-369b5603ddab"
      },
      "source": [
        "import pandas as pd\n",
        "import seaborn as sns\n",
        "import matplotlib.pyplot as plt\n",
        "import numpy as np\n",
        "import scipy\n",
        "from scipy import stats"
      ],
      "execution_count": null,
      "outputs": [
        {
          "output_type": "stream",
          "text": [
            "/usr/local/lib/python3.6/dist-packages/statsmodels/tools/_testing.py:19: FutureWarning: pandas.util.testing is deprecated. Use the functions in the public API at pandas.testing instead.\n",
            "  import pandas.util.testing as tm\n"
          ],
          "name": "stderr"
        }
      ]
    },
    {
      "cell_type": "code",
      "metadata": {
        "id": "cNv7PSTQJaXl",
        "colab_type": "code",
        "colab": {
          "base_uri": "https://localhost:8080/",
          "height": 202
        },
        "outputId": "b7ea03a8-594c-4eba-fb0c-ce38313b1eef"
      },
      "source": [
        "age_gen_df = pd.read_csv(\"/content/drive/My Drive/Data/airbnb/age_gender_bkts.csv\")\n",
        "age_gen_df.head()"
      ],
      "execution_count": null,
      "outputs": [
        {
          "output_type": "execute_result",
          "data": {
            "text/html": [
              "<div>\n",
              "<style scoped>\n",
              "    .dataframe tbody tr th:only-of-type {\n",
              "        vertical-align: middle;\n",
              "    }\n",
              "\n",
              "    .dataframe tbody tr th {\n",
              "        vertical-align: top;\n",
              "    }\n",
              "\n",
              "    .dataframe thead th {\n",
              "        text-align: right;\n",
              "    }\n",
              "</style>\n",
              "<table border=\"1\" class=\"dataframe\">\n",
              "  <thead>\n",
              "    <tr style=\"text-align: right;\">\n",
              "      <th></th>\n",
              "      <th>age_bucket</th>\n",
              "      <th>country_destination</th>\n",
              "      <th>gender</th>\n",
              "      <th>population_in_thousands</th>\n",
              "      <th>year</th>\n",
              "    </tr>\n",
              "  </thead>\n",
              "  <tbody>\n",
              "    <tr>\n",
              "      <th>0</th>\n",
              "      <td>100+</td>\n",
              "      <td>AU</td>\n",
              "      <td>male</td>\n",
              "      <td>1.0</td>\n",
              "      <td>2015.0</td>\n",
              "    </tr>\n",
              "    <tr>\n",
              "      <th>1</th>\n",
              "      <td>95-99</td>\n",
              "      <td>AU</td>\n",
              "      <td>male</td>\n",
              "      <td>9.0</td>\n",
              "      <td>2015.0</td>\n",
              "    </tr>\n",
              "    <tr>\n",
              "      <th>2</th>\n",
              "      <td>90-94</td>\n",
              "      <td>AU</td>\n",
              "      <td>male</td>\n",
              "      <td>47.0</td>\n",
              "      <td>2015.0</td>\n",
              "    </tr>\n",
              "    <tr>\n",
              "      <th>3</th>\n",
              "      <td>85-89</td>\n",
              "      <td>AU</td>\n",
              "      <td>male</td>\n",
              "      <td>118.0</td>\n",
              "      <td>2015.0</td>\n",
              "    </tr>\n",
              "    <tr>\n",
              "      <th>4</th>\n",
              "      <td>80-84</td>\n",
              "      <td>AU</td>\n",
              "      <td>male</td>\n",
              "      <td>199.0</td>\n",
              "      <td>2015.0</td>\n",
              "    </tr>\n",
              "  </tbody>\n",
              "</table>\n",
              "</div>"
            ],
            "text/plain": [
              "  age_bucket country_destination gender  population_in_thousands    year\n",
              "0       100+                  AU   male                      1.0  2015.0\n",
              "1      95-99                  AU   male                      9.0  2015.0\n",
              "2      90-94                  AU   male                     47.0  2015.0\n",
              "3      85-89                  AU   male                    118.0  2015.0\n",
              "4      80-84                  AU   male                    199.0  2015.0"
            ]
          },
          "metadata": {
            "tags": []
          },
          "execution_count": 2
        }
      ]
    },
    {
      "cell_type": "code",
      "metadata": {
        "id": "JwVCxNsdKnH6",
        "colab_type": "code",
        "colab": {
          "base_uri": "https://localhost:8080/",
          "height": 225
        },
        "outputId": "dd3664fe-5abf-4ac5-963f-5f66dd9990c8"
      },
      "source": [
        "age_gen_df.info()"
      ],
      "execution_count": null,
      "outputs": [
        {
          "output_type": "stream",
          "text": [
            "<class 'pandas.core.frame.DataFrame'>\n",
            "RangeIndex: 420 entries, 0 to 419\n",
            "Data columns (total 5 columns):\n",
            " #   Column                   Non-Null Count  Dtype  \n",
            "---  ------                   --------------  -----  \n",
            " 0   age_bucket               420 non-null    object \n",
            " 1   country_destination      420 non-null    object \n",
            " 2   gender                   420 non-null    object \n",
            " 3   population_in_thousands  420 non-null    float64\n",
            " 4   year                     420 non-null    float64\n",
            "dtypes: float64(2), object(3)\n",
            "memory usage: 16.5+ KB\n"
          ],
          "name": "stdout"
        }
      ]
    },
    {
      "cell_type": "markdown",
      "metadata": {
        "id": "FC5NcH_2L3Oe",
        "colab_type": "text"
      },
      "source": [
        "FInding average of each age group and adding as another column"
      ]
    },
    {
      "cell_type": "code",
      "metadata": {
        "id": "mjlznrwiK2Mu",
        "colab_type": "code",
        "colab": {}
      },
      "source": [
        "age_gen_df['age_bucket']=age_gen_df['age_bucket'].apply(lambda x: '100-104' if x == '100+' else x)\n",
        "age_gen_df['mean_age']=age_gen_df['age_bucket'].apply(lambda x: (int(x.split('-')[0])+int(x.split('-')[1]))/2)"
      ],
      "execution_count": null,
      "outputs": []
    },
    {
      "cell_type": "code",
      "metadata": {
        "id": "n00jwVkTWBiI",
        "colab_type": "code",
        "colab": {}
      },
      "source": [
        "age_gen_df=age_gen_df.drop({'age_bucket','year'},axis=1)"
      ],
      "execution_count": null,
      "outputs": []
    },
    {
      "cell_type": "code",
      "metadata": {
        "id": "67me1uk1Wqq_",
        "colab_type": "code",
        "colab": {
          "base_uri": "https://localhost:8080/",
          "height": 415
        },
        "outputId": "262dfd7f-92ef-4da1-f6cd-fa6b0f53f3e3"
      },
      "source": [
        "age_gen_df"
      ],
      "execution_count": null,
      "outputs": [
        {
          "output_type": "execute_result",
          "data": {
            "text/html": [
              "<div>\n",
              "<style scoped>\n",
              "    .dataframe tbody tr th:only-of-type {\n",
              "        vertical-align: middle;\n",
              "    }\n",
              "\n",
              "    .dataframe tbody tr th {\n",
              "        vertical-align: top;\n",
              "    }\n",
              "\n",
              "    .dataframe thead th {\n",
              "        text-align: right;\n",
              "    }\n",
              "</style>\n",
              "<table border=\"1\" class=\"dataframe\">\n",
              "  <thead>\n",
              "    <tr style=\"text-align: right;\">\n",
              "      <th></th>\n",
              "      <th>country_destination</th>\n",
              "      <th>gender</th>\n",
              "      <th>population_in_thousands</th>\n",
              "      <th>mean_age</th>\n",
              "    </tr>\n",
              "  </thead>\n",
              "  <tbody>\n",
              "    <tr>\n",
              "      <th>0</th>\n",
              "      <td>AU</td>\n",
              "      <td>male</td>\n",
              "      <td>1.0</td>\n",
              "      <td>102.0</td>\n",
              "    </tr>\n",
              "    <tr>\n",
              "      <th>1</th>\n",
              "      <td>AU</td>\n",
              "      <td>male</td>\n",
              "      <td>9.0</td>\n",
              "      <td>97.0</td>\n",
              "    </tr>\n",
              "    <tr>\n",
              "      <th>2</th>\n",
              "      <td>AU</td>\n",
              "      <td>male</td>\n",
              "      <td>47.0</td>\n",
              "      <td>92.0</td>\n",
              "    </tr>\n",
              "    <tr>\n",
              "      <th>3</th>\n",
              "      <td>AU</td>\n",
              "      <td>male</td>\n",
              "      <td>118.0</td>\n",
              "      <td>87.0</td>\n",
              "    </tr>\n",
              "    <tr>\n",
              "      <th>4</th>\n",
              "      <td>AU</td>\n",
              "      <td>male</td>\n",
              "      <td>199.0</td>\n",
              "      <td>82.0</td>\n",
              "    </tr>\n",
              "    <tr>\n",
              "      <th>...</th>\n",
              "      <td>...</td>\n",
              "      <td>...</td>\n",
              "      <td>...</td>\n",
              "      <td>...</td>\n",
              "    </tr>\n",
              "    <tr>\n",
              "      <th>415</th>\n",
              "      <td>US</td>\n",
              "      <td>male</td>\n",
              "      <td>115.0</td>\n",
              "      <td>97.0</td>\n",
              "    </tr>\n",
              "    <tr>\n",
              "      <th>416</th>\n",
              "      <td>US</td>\n",
              "      <td>male</td>\n",
              "      <td>541.0</td>\n",
              "      <td>92.0</td>\n",
              "    </tr>\n",
              "    <tr>\n",
              "      <th>417</th>\n",
              "      <td>US</td>\n",
              "      <td>female</td>\n",
              "      <td>10570.0</td>\n",
              "      <td>17.0</td>\n",
              "    </tr>\n",
              "    <tr>\n",
              "      <th>418</th>\n",
              "      <td>US</td>\n",
              "      <td>male</td>\n",
              "      <td>1441.0</td>\n",
              "      <td>87.0</td>\n",
              "    </tr>\n",
              "    <tr>\n",
              "      <th>419</th>\n",
              "      <td>US</td>\n",
              "      <td>male</td>\n",
              "      <td>2442.0</td>\n",
              "      <td>82.0</td>\n",
              "    </tr>\n",
              "  </tbody>\n",
              "</table>\n",
              "<p>420 rows × 4 columns</p>\n",
              "</div>"
            ],
            "text/plain": [
              "    country_destination  gender  population_in_thousands  mean_age\n",
              "0                    AU    male                      1.0     102.0\n",
              "1                    AU    male                      9.0      97.0\n",
              "2                    AU    male                     47.0      92.0\n",
              "3                    AU    male                    118.0      87.0\n",
              "4                    AU    male                    199.0      82.0\n",
              "..                  ...     ...                      ...       ...\n",
              "415                  US    male                    115.0      97.0\n",
              "416                  US    male                    541.0      92.0\n",
              "417                  US  female                  10570.0      17.0\n",
              "418                  US    male                   1441.0      87.0\n",
              "419                  US    male                   2442.0      82.0\n",
              "\n",
              "[420 rows x 4 columns]"
            ]
          },
          "metadata": {
            "tags": []
          },
          "execution_count": 6
        }
      ]
    },
    {
      "cell_type": "markdown",
      "metadata": {
        "id": "1oIPtzxAHVL8",
        "colab_type": "text"
      },
      "source": [
        "List of all destination countries and their counts"
      ]
    },
    {
      "cell_type": "code",
      "metadata": {
        "id": "HyxtM5q5W9nG",
        "colab_type": "code",
        "colab": {
          "base_uri": "https://localhost:8080/",
          "height": 208
        },
        "outputId": "1b17115f-c27e-4ba0-d581-b0a7eabd6615"
      },
      "source": [
        "list(age_gen_df['country_destination'].unique())\n",
        "age_gen_df['country_destination'].value_counts()"
      ],
      "execution_count": null,
      "outputs": [
        {
          "output_type": "execute_result",
          "data": {
            "text/plain": [
              "FR    42\n",
              "NL    42\n",
              "DE    42\n",
              "CA    42\n",
              "IT    42\n",
              "ES    42\n",
              "PT    42\n",
              "US    42\n",
              "AU    42\n",
              "GB    42\n",
              "Name: country_destination, dtype: int64"
            ]
          },
          "metadata": {
            "tags": []
          },
          "execution_count": 7
        }
      ]
    },
    {
      "cell_type": "code",
      "metadata": {
        "id": "JZs0EV-tHJVW",
        "colab_type": "code",
        "colab": {
          "base_uri": "https://localhost:8080/",
          "height": 69
        },
        "outputId": "99e2ec04-da9d-4d11-bffd-01903d269c5d"
      },
      "source": [
        "age_gen_df['gender'].value_counts()"
      ],
      "execution_count": null,
      "outputs": [
        {
          "output_type": "execute_result",
          "data": {
            "text/plain": [
              "female    210\n",
              "male      210\n",
              "Name: gender, dtype: int64"
            ]
          },
          "metadata": {
            "tags": []
          },
          "execution_count": 8
        }
      ]
    },
    {
      "cell_type": "markdown",
      "metadata": {
        "id": "wSadXaFRP5GC",
        "colab_type": "text"
      },
      "source": [
        "making gender values as gategorical values replacinf male with 0 and female with 1"
      ]
    },
    {
      "cell_type": "code",
      "metadata": {
        "id": "sEtRdnhZHfTR",
        "colab_type": "code",
        "colab": {
          "base_uri": "https://localhost:8080/",
          "height": 69
        },
        "outputId": "13f1ebff-752f-4c9b-9fd5-c90d31eeba8e"
      },
      "source": [
        "age_gen_df['gender']=age_gen_df['gender'].apply(lambda x:0 if x =='male' else 1)\n",
        "age_gen_df['gender'].value_counts()"
      ],
      "execution_count": null,
      "outputs": [
        {
          "output_type": "execute_result",
          "data": {
            "text/plain": [
              "1    210\n",
              "0    210\n",
              "Name: gender, dtype: int64"
            ]
          },
          "metadata": {
            "tags": []
          },
          "execution_count": 9
        }
      ]
    },
    {
      "cell_type": "markdown",
      "metadata": {
        "id": "3po5J119QeNC",
        "colab_type": "text"
      },
      "source": [
        "Reading countries data"
      ]
    },
    {
      "cell_type": "code",
      "metadata": {
        "id": "5_RgvRTQP-F_",
        "colab_type": "code",
        "colab": {}
      },
      "source": [
        "countries = pd.read_csv('/content/drive/My Drive/Data/airbnb/countries.csv')"
      ],
      "execution_count": null,
      "outputs": []
    },
    {
      "cell_type": "code",
      "metadata": {
        "id": "luUEz6PhQOV2",
        "colab_type": "code",
        "colab": {
          "base_uri": "https://localhost:8080/",
          "height": 355
        },
        "outputId": "3c784737-20c4-4fbf-cff0-6a9ea7e3b635"
      },
      "source": [
        "countries.head(20)"
      ],
      "execution_count": null,
      "outputs": [
        {
          "output_type": "execute_result",
          "data": {
            "text/html": [
              "<div>\n",
              "<style scoped>\n",
              "    .dataframe tbody tr th:only-of-type {\n",
              "        vertical-align: middle;\n",
              "    }\n",
              "\n",
              "    .dataframe tbody tr th {\n",
              "        vertical-align: top;\n",
              "    }\n",
              "\n",
              "    .dataframe thead th {\n",
              "        text-align: right;\n",
              "    }\n",
              "</style>\n",
              "<table border=\"1\" class=\"dataframe\">\n",
              "  <thead>\n",
              "    <tr style=\"text-align: right;\">\n",
              "      <th></th>\n",
              "      <th>country_destination</th>\n",
              "      <th>lat_destination</th>\n",
              "      <th>lng_destination</th>\n",
              "      <th>distance_km</th>\n",
              "      <th>destination_km2</th>\n",
              "      <th>destination_language</th>\n",
              "      <th>language_levenshtein_distance</th>\n",
              "    </tr>\n",
              "  </thead>\n",
              "  <tbody>\n",
              "    <tr>\n",
              "      <th>0</th>\n",
              "      <td>AU</td>\n",
              "      <td>-26.853388</td>\n",
              "      <td>133.275160</td>\n",
              "      <td>15297.7440</td>\n",
              "      <td>7741220.0</td>\n",
              "      <td>eng</td>\n",
              "      <td>0.00</td>\n",
              "    </tr>\n",
              "    <tr>\n",
              "      <th>1</th>\n",
              "      <td>CA</td>\n",
              "      <td>62.393303</td>\n",
              "      <td>-96.818146</td>\n",
              "      <td>2828.1333</td>\n",
              "      <td>9984670.0</td>\n",
              "      <td>eng</td>\n",
              "      <td>0.00</td>\n",
              "    </tr>\n",
              "    <tr>\n",
              "      <th>2</th>\n",
              "      <td>DE</td>\n",
              "      <td>51.165707</td>\n",
              "      <td>10.452764</td>\n",
              "      <td>7879.5680</td>\n",
              "      <td>357022.0</td>\n",
              "      <td>deu</td>\n",
              "      <td>72.61</td>\n",
              "    </tr>\n",
              "    <tr>\n",
              "      <th>3</th>\n",
              "      <td>ES</td>\n",
              "      <td>39.896027</td>\n",
              "      <td>-2.487694</td>\n",
              "      <td>7730.7240</td>\n",
              "      <td>505370.0</td>\n",
              "      <td>spa</td>\n",
              "      <td>92.25</td>\n",
              "    </tr>\n",
              "    <tr>\n",
              "      <th>4</th>\n",
              "      <td>FR</td>\n",
              "      <td>46.232193</td>\n",
              "      <td>2.209667</td>\n",
              "      <td>7682.9450</td>\n",
              "      <td>643801.0</td>\n",
              "      <td>fra</td>\n",
              "      <td>92.06</td>\n",
              "    </tr>\n",
              "    <tr>\n",
              "      <th>5</th>\n",
              "      <td>GB</td>\n",
              "      <td>54.633220</td>\n",
              "      <td>-3.432277</td>\n",
              "      <td>6883.6590</td>\n",
              "      <td>243610.0</td>\n",
              "      <td>eng</td>\n",
              "      <td>0.00</td>\n",
              "    </tr>\n",
              "    <tr>\n",
              "      <th>6</th>\n",
              "      <td>IT</td>\n",
              "      <td>41.873990</td>\n",
              "      <td>12.564167</td>\n",
              "      <td>8636.6310</td>\n",
              "      <td>301340.0</td>\n",
              "      <td>ita</td>\n",
              "      <td>89.40</td>\n",
              "    </tr>\n",
              "    <tr>\n",
              "      <th>7</th>\n",
              "      <td>NL</td>\n",
              "      <td>52.133057</td>\n",
              "      <td>5.295250</td>\n",
              "      <td>7524.3203</td>\n",
              "      <td>41543.0</td>\n",
              "      <td>nld</td>\n",
              "      <td>63.22</td>\n",
              "    </tr>\n",
              "    <tr>\n",
              "      <th>8</th>\n",
              "      <td>PT</td>\n",
              "      <td>39.553444</td>\n",
              "      <td>-7.839319</td>\n",
              "      <td>7355.2534</td>\n",
              "      <td>92090.0</td>\n",
              "      <td>por</td>\n",
              "      <td>95.45</td>\n",
              "    </tr>\n",
              "    <tr>\n",
              "      <th>9</th>\n",
              "      <td>US</td>\n",
              "      <td>36.966427</td>\n",
              "      <td>-95.844030</td>\n",
              "      <td>0.0000</td>\n",
              "      <td>9826675.0</td>\n",
              "      <td>eng</td>\n",
              "      <td>0.00</td>\n",
              "    </tr>\n",
              "  </tbody>\n",
              "</table>\n",
              "</div>"
            ],
            "text/plain": [
              "  country_destination  ...  language_levenshtein_distance\n",
              "0                  AU  ...                           0.00\n",
              "1                  CA  ...                           0.00\n",
              "2                  DE  ...                          72.61\n",
              "3                  ES  ...                          92.25\n",
              "4                  FR  ...                          92.06\n",
              "5                  GB  ...                           0.00\n",
              "6                  IT  ...                          89.40\n",
              "7                  NL  ...                          63.22\n",
              "8                  PT  ...                          95.45\n",
              "9                  US  ...                           0.00\n",
              "\n",
              "[10 rows x 7 columns]"
            ]
          },
          "metadata": {
            "tags": []
          },
          "execution_count": 11
        }
      ]
    },
    {
      "cell_type": "markdown",
      "metadata": {
        "id": "ZvOPOhU-QhHN",
        "colab_type": "text"
      },
      "source": [
        "Reading sessions data"
      ]
    },
    {
      "cell_type": "code",
      "metadata": {
        "id": "KjtiMlkpQQik",
        "colab_type": "code",
        "colab": {}
      },
      "source": [
        "sessions=pd.read_csv('/content/drive/My Drive/Data/airbnb/sessions.csv')"
      ],
      "execution_count": null,
      "outputs": []
    },
    {
      "cell_type": "code",
      "metadata": {
        "id": "oa4Zx1Q1QngR",
        "colab_type": "code",
        "colab": {
          "base_uri": "https://localhost:8080/",
          "height": 202
        },
        "outputId": "43dfa4f7-199b-4ad6-f5c4-af7c96fb21f7"
      },
      "source": [
        "sessions.head()"
      ],
      "execution_count": null,
      "outputs": [
        {
          "output_type": "execute_result",
          "data": {
            "text/html": [
              "<div>\n",
              "<style scoped>\n",
              "    .dataframe tbody tr th:only-of-type {\n",
              "        vertical-align: middle;\n",
              "    }\n",
              "\n",
              "    .dataframe tbody tr th {\n",
              "        vertical-align: top;\n",
              "    }\n",
              "\n",
              "    .dataframe thead th {\n",
              "        text-align: right;\n",
              "    }\n",
              "</style>\n",
              "<table border=\"1\" class=\"dataframe\">\n",
              "  <thead>\n",
              "    <tr style=\"text-align: right;\">\n",
              "      <th></th>\n",
              "      <th>user_id</th>\n",
              "      <th>action</th>\n",
              "      <th>action_type</th>\n",
              "      <th>action_detail</th>\n",
              "      <th>device_type</th>\n",
              "      <th>secs_elapsed</th>\n",
              "    </tr>\n",
              "  </thead>\n",
              "  <tbody>\n",
              "    <tr>\n",
              "      <th>0</th>\n",
              "      <td>d1mm9tcy42</td>\n",
              "      <td>lookup</td>\n",
              "      <td>NaN</td>\n",
              "      <td>NaN</td>\n",
              "      <td>Windows Desktop</td>\n",
              "      <td>319.0</td>\n",
              "    </tr>\n",
              "    <tr>\n",
              "      <th>1</th>\n",
              "      <td>d1mm9tcy42</td>\n",
              "      <td>search_results</td>\n",
              "      <td>click</td>\n",
              "      <td>view_search_results</td>\n",
              "      <td>Windows Desktop</td>\n",
              "      <td>67753.0</td>\n",
              "    </tr>\n",
              "    <tr>\n",
              "      <th>2</th>\n",
              "      <td>d1mm9tcy42</td>\n",
              "      <td>lookup</td>\n",
              "      <td>NaN</td>\n",
              "      <td>NaN</td>\n",
              "      <td>Windows Desktop</td>\n",
              "      <td>301.0</td>\n",
              "    </tr>\n",
              "    <tr>\n",
              "      <th>3</th>\n",
              "      <td>d1mm9tcy42</td>\n",
              "      <td>search_results</td>\n",
              "      <td>click</td>\n",
              "      <td>view_search_results</td>\n",
              "      <td>Windows Desktop</td>\n",
              "      <td>22141.0</td>\n",
              "    </tr>\n",
              "    <tr>\n",
              "      <th>4</th>\n",
              "      <td>d1mm9tcy42</td>\n",
              "      <td>lookup</td>\n",
              "      <td>NaN</td>\n",
              "      <td>NaN</td>\n",
              "      <td>Windows Desktop</td>\n",
              "      <td>435.0</td>\n",
              "    </tr>\n",
              "  </tbody>\n",
              "</table>\n",
              "</div>"
            ],
            "text/plain": [
              "      user_id          action  ...      device_type secs_elapsed\n",
              "0  d1mm9tcy42          lookup  ...  Windows Desktop        319.0\n",
              "1  d1mm9tcy42  search_results  ...  Windows Desktop      67753.0\n",
              "2  d1mm9tcy42          lookup  ...  Windows Desktop        301.0\n",
              "3  d1mm9tcy42  search_results  ...  Windows Desktop      22141.0\n",
              "4  d1mm9tcy42          lookup  ...  Windows Desktop        435.0\n",
              "\n",
              "[5 rows x 6 columns]"
            ]
          },
          "metadata": {
            "tags": []
          },
          "execution_count": 13
        }
      ]
    },
    {
      "cell_type": "code",
      "metadata": {
        "id": "b8dl5J1OQs0w",
        "colab_type": "code",
        "colab": {
          "base_uri": "https://localhost:8080/",
          "height": 35
        },
        "outputId": "b95f9d16-7af4-4011-8099-516f73642d6a"
      },
      "source": [
        "sessions.shape"
      ],
      "execution_count": null,
      "outputs": [
        {
          "output_type": "execute_result",
          "data": {
            "text/plain": [
              "(10567737, 6)"
            ]
          },
          "metadata": {
            "tags": []
          },
          "execution_count": 14
        }
      ]
    },
    {
      "cell_type": "code",
      "metadata": {
        "id": "gkR8sJLolZsD",
        "colab_type": "code",
        "colab": {
          "base_uri": "https://localhost:8080/",
          "height": 309
        },
        "outputId": "72360ca1-02de-4cb0-e04a-f356494c1fe7"
      },
      "source": [
        "sns.distplot(sessions[sessions['secs_elapsed'].notnull()]['secs_elapsed'])"
      ],
      "execution_count": null,
      "outputs": [
        {
          "output_type": "execute_result",
          "data": {
            "text/plain": [
              "<matplotlib.axes._subplots.AxesSubplot at 0x7efc0ac0fbe0>"
            ]
          },
          "metadata": {
            "tags": []
          },
          "execution_count": 15
        },
        {
          "output_type": "display_data",
          "data": {
            "image/png": "[encoded data removed]",
            "text/plain": [
              "<Figure size 432x288 with 1 Axes>"
            ]
          },
          "metadata": {
            "tags": [],
            "needs_background": "light"
          }
        }
      ]
    },
    {
      "cell_type": "code",
      "metadata": {
        "id": "VSWAePXDUGKb",
        "colab_type": "code",
        "colab": {
          "base_uri": "https://localhost:8080/",
          "height": 173
        },
        "outputId": "fec81f38-55aa-44f4-eea8-fb897337f74a"
      },
      "source": [
        "sessions['secs_elapsed'].describe()"
      ],
      "execution_count": null,
      "outputs": [
        {
          "output_type": "execute_result",
          "data": {
            "text/plain": [
              "count    1.043171e+07\n",
              "mean     1.940581e+04\n",
              "std      8.888424e+04\n",
              "min      0.000000e+00\n",
              "25%      2.290000e+02\n",
              "50%      1.147000e+03\n",
              "75%      8.444000e+03\n",
              "max      1.799977e+06\n",
              "Name: secs_elapsed, dtype: float64"
            ]
          },
          "metadata": {
            "tags": []
          },
          "execution_count": 16
        }
      ]
    },
    {
      "cell_type": "code",
      "metadata": {
        "id": "jOrRVVKKTgDg",
        "colab_type": "code",
        "colab": {
          "base_uri": "https://localhost:8080/",
          "height": 35
        },
        "outputId": "193e32da-36eb-4d64-ad6d-d7d275bf2401"
      },
      "source": [
        "len(sessions[sessions['secs_elapsed'].isnull()])"
      ],
      "execution_count": null,
      "outputs": [
        {
          "output_type": "execute_result",
          "data": {
            "text/plain": [
              "136031"
            ]
          },
          "metadata": {
            "tags": []
          },
          "execution_count": 17
        }
      ]
    },
    {
      "cell_type": "code",
      "metadata": {
        "id": "8xyoSOO5T-xk",
        "colab_type": "code",
        "colab": {}
      },
      "source": [
        "median_session=sessions['secs_elapsed'].median()"
      ],
      "execution_count": null,
      "outputs": []
    },
    {
      "cell_type": "code",
      "metadata": {
        "id": "6H9vbAz9UNrq",
        "colab_type": "code",
        "colab": {}
      },
      "source": [
        "sessions['secs_elapsed']=sessions['secs_elapsed'].fillna(median_session)"
      ],
      "execution_count": null,
      "outputs": []
    },
    {
      "cell_type": "code",
      "metadata": {
        "id": "8XtCSzJ6UcYz",
        "colab_type": "code",
        "colab": {
          "base_uri": "https://localhost:8080/",
          "height": 173
        },
        "outputId": "287c8fc4-bb81-45a2-f86e-3b334e649c5c"
      },
      "source": [
        "sessions['secs_elapsed'].describe()"
      ],
      "execution_count": null,
      "outputs": [
        {
          "output_type": "execute_result",
          "data": {
            "text/plain": [
              "count    1.056774e+07\n",
              "mean     1.917078e+04\n",
              "std      8.833430e+04\n",
              "min      0.000000e+00\n",
              "25%      2.370000e+02\n",
              "50%      1.147000e+03\n",
              "75%      8.193000e+03\n",
              "max      1.799977e+06\n",
              "Name: secs_elapsed, dtype: float64"
            ]
          },
          "metadata": {
            "tags": []
          },
          "execution_count": 20
        }
      ]
    },
    {
      "cell_type": "markdown",
      "metadata": {
        "id": "SYXY8_1SUr6b",
        "colab_type": "text"
      },
      "source": [
        "As can be seen above, the interpolation has not significantly altered the summary statistics of the distribution. This is a good option for filling in the null values for the time being.\n",
        "\n"
      ]
    },
    {
      "cell_type": "markdown",
      "metadata": {
        "id": "iz-lVjovU0Ve",
        "colab_type": "text"
      },
      "source": [
        "Let us check sessions which donot have any actions"
      ]
    },
    {
      "cell_type": "code",
      "metadata": {
        "id": "IEXzriBYUhA6",
        "colab_type": "code",
        "colab": {
          "base_uri": "https://localhost:8080/",
          "height": 202
        },
        "outputId": "735a7cbb-f588-4cb1-ac8f-f810ce604e9e"
      },
      "source": [
        "sessions.head()"
      ],
      "execution_count": null,
      "outputs": [
        {
          "output_type": "execute_result",
          "data": {
            "text/html": [
              "<div>\n",
              "<style scoped>\n",
              "    .dataframe tbody tr th:only-of-type {\n",
              "        vertical-align: middle;\n",
              "    }\n",
              "\n",
              "    .dataframe tbody tr th {\n",
              "        vertical-align: top;\n",
              "    }\n",
              "\n",
              "    .dataframe thead th {\n",
              "        text-align: right;\n",
              "    }\n",
              "</style>\n",
              "<table border=\"1\" class=\"dataframe\">\n",
              "  <thead>\n",
              "    <tr style=\"text-align: right;\">\n",
              "      <th></th>\n",
              "      <th>user_id</th>\n",
              "      <th>action</th>\n",
              "      <th>action_type</th>\n",
              "      <th>action_detail</th>\n",
              "      <th>device_type</th>\n",
              "      <th>secs_elapsed</th>\n",
              "    </tr>\n",
              "  </thead>\n",
              "  <tbody>\n",
              "    <tr>\n",
              "      <th>0</th>\n",
              "      <td>d1mm9tcy42</td>\n",
              "      <td>lookup</td>\n",
              "      <td>NaN</td>\n",
              "      <td>NaN</td>\n",
              "      <td>Windows Desktop</td>\n",
              "      <td>319.0</td>\n",
              "    </tr>\n",
              "    <tr>\n",
              "      <th>1</th>\n",
              "      <td>d1mm9tcy42</td>\n",
              "      <td>search_results</td>\n",
              "      <td>click</td>\n",
              "      <td>view_search_results</td>\n",
              "      <td>Windows Desktop</td>\n",
              "      <td>67753.0</td>\n",
              "    </tr>\n",
              "    <tr>\n",
              "      <th>2</th>\n",
              "      <td>d1mm9tcy42</td>\n",
              "      <td>lookup</td>\n",
              "      <td>NaN</td>\n",
              "      <td>NaN</td>\n",
              "      <td>Windows Desktop</td>\n",
              "      <td>301.0</td>\n",
              "    </tr>\n",
              "    <tr>\n",
              "      <th>3</th>\n",
              "      <td>d1mm9tcy42</td>\n",
              "      <td>search_results</td>\n",
              "      <td>click</td>\n",
              "      <td>view_search_results</td>\n",
              "      <td>Windows Desktop</td>\n",
              "      <td>22141.0</td>\n",
              "    </tr>\n",
              "    <tr>\n",
              "      <th>4</th>\n",
              "      <td>d1mm9tcy42</td>\n",
              "      <td>lookup</td>\n",
              "      <td>NaN</td>\n",
              "      <td>NaN</td>\n",
              "      <td>Windows Desktop</td>\n",
              "      <td>435.0</td>\n",
              "    </tr>\n",
              "  </tbody>\n",
              "</table>\n",
              "</div>"
            ],
            "text/plain": [
              "      user_id          action  ...      device_type secs_elapsed\n",
              "0  d1mm9tcy42          lookup  ...  Windows Desktop        319.0\n",
              "1  d1mm9tcy42  search_results  ...  Windows Desktop      67753.0\n",
              "2  d1mm9tcy42          lookup  ...  Windows Desktop        301.0\n",
              "3  d1mm9tcy42  search_results  ...  Windows Desktop      22141.0\n",
              "4  d1mm9tcy42          lookup  ...  Windows Desktop        435.0\n",
              "\n",
              "[5 rows x 6 columns]"
            ]
          },
          "metadata": {
            "tags": []
          },
          "execution_count": 21
        }
      ]
    },
    {
      "cell_type": "code",
      "metadata": {
        "id": "gkhoJPegU880",
        "colab_type": "code",
        "colab": {}
      },
      "source": [
        "no_action=sessions[(sessions['action'].isnull())|(sessions['action_detail'].isnull())|(sessions['action_type'].isnull())]"
      ],
      "execution_count": null,
      "outputs": []
    },
    {
      "cell_type": "code",
      "metadata": {
        "id": "8xkhGG06VOBE",
        "colab_type": "code",
        "colab": {
          "base_uri": "https://localhost:8080/",
          "height": 202
        },
        "outputId": "faab139e-18e7-4e6c-f6a7-9d4cee42d61d"
      },
      "source": [
        "no_action.head()"
      ],
      "execution_count": null,
      "outputs": [
        {
          "output_type": "execute_result",
          "data": {
            "text/html": [
              "<div>\n",
              "<style scoped>\n",
              "    .dataframe tbody tr th:only-of-type {\n",
              "        vertical-align: middle;\n",
              "    }\n",
              "\n",
              "    .dataframe tbody tr th {\n",
              "        vertical-align: top;\n",
              "    }\n",
              "\n",
              "    .dataframe thead th {\n",
              "        text-align: right;\n",
              "    }\n",
              "</style>\n",
              "<table border=\"1\" class=\"dataframe\">\n",
              "  <thead>\n",
              "    <tr style=\"text-align: right;\">\n",
              "      <th></th>\n",
              "      <th>user_id</th>\n",
              "      <th>action</th>\n",
              "      <th>action_type</th>\n",
              "      <th>action_detail</th>\n",
              "      <th>device_type</th>\n",
              "      <th>secs_elapsed</th>\n",
              "    </tr>\n",
              "  </thead>\n",
              "  <tbody>\n",
              "    <tr>\n",
              "      <th>0</th>\n",
              "      <td>d1mm9tcy42</td>\n",
              "      <td>lookup</td>\n",
              "      <td>NaN</td>\n",
              "      <td>NaN</td>\n",
              "      <td>Windows Desktop</td>\n",
              "      <td>319.0</td>\n",
              "    </tr>\n",
              "    <tr>\n",
              "      <th>2</th>\n",
              "      <td>d1mm9tcy42</td>\n",
              "      <td>lookup</td>\n",
              "      <td>NaN</td>\n",
              "      <td>NaN</td>\n",
              "      <td>Windows Desktop</td>\n",
              "      <td>301.0</td>\n",
              "    </tr>\n",
              "    <tr>\n",
              "      <th>4</th>\n",
              "      <td>d1mm9tcy42</td>\n",
              "      <td>lookup</td>\n",
              "      <td>NaN</td>\n",
              "      <td>NaN</td>\n",
              "      <td>Windows Desktop</td>\n",
              "      <td>435.0</td>\n",
              "    </tr>\n",
              "    <tr>\n",
              "      <th>6</th>\n",
              "      <td>d1mm9tcy42</td>\n",
              "      <td>lookup</td>\n",
              "      <td>NaN</td>\n",
              "      <td>NaN</td>\n",
              "      <td>Windows Desktop</td>\n",
              "      <td>115.0</td>\n",
              "    </tr>\n",
              "    <tr>\n",
              "      <th>9</th>\n",
              "      <td>d1mm9tcy42</td>\n",
              "      <td>lookup</td>\n",
              "      <td>NaN</td>\n",
              "      <td>NaN</td>\n",
              "      <td>Windows Desktop</td>\n",
              "      <td>683.0</td>\n",
              "    </tr>\n",
              "  </tbody>\n",
              "</table>\n",
              "</div>"
            ],
            "text/plain": [
              "      user_id  action action_type action_detail      device_type  secs_elapsed\n",
              "0  d1mm9tcy42  lookup         NaN           NaN  Windows Desktop         319.0\n",
              "2  d1mm9tcy42  lookup         NaN           NaN  Windows Desktop         301.0\n",
              "4  d1mm9tcy42  lookup         NaN           NaN  Windows Desktop         435.0\n",
              "6  d1mm9tcy42  lookup         NaN           NaN  Windows Desktop         115.0\n",
              "9  d1mm9tcy42  lookup         NaN           NaN  Windows Desktop         683.0"
            ]
          },
          "metadata": {
            "tags": []
          },
          "execution_count": 23
        }
      ]
    },
    {
      "cell_type": "code",
      "metadata": {
        "id": "czMUERU-Vsq1",
        "colab_type": "code",
        "colab": {
          "base_uri": "https://localhost:8080/",
          "height": 35
        },
        "outputId": "8b7bb3bf-c281-457e-d0c1-17df5caf91c7"
      },
      "source": [
        "no_action.shape"
      ],
      "execution_count": null,
      "outputs": [
        {
          "output_type": "execute_result",
          "data": {
            "text/plain": [
              "(1205830, 6)"
            ]
          },
          "metadata": {
            "tags": []
          },
          "execution_count": 24
        }
      ]
    },
    {
      "cell_type": "markdown",
      "metadata": {
        "id": "kFfJ1jSEkLsR",
        "colab_type": "text"
      },
      "source": [
        "Device types used to access irbnb"
      ]
    },
    {
      "cell_type": "code",
      "metadata": {
        "id": "Xadl6cmvkKsS",
        "colab_type": "code",
        "colab": {
          "base_uri": "https://localhost:8080/",
          "height": 277
        },
        "outputId": "cda8f20c-45b5-4172-d01d-f1553f55100a"
      },
      "source": [
        "sessions['device_type'].value_counts()"
      ],
      "execution_count": null,
      "outputs": [
        {
          "output_type": "execute_result",
          "data": {
            "text/plain": [
              "Mac Desktop                         3594286\n",
              "Windows Desktop                     2658539\n",
              "iPhone                              2105031\n",
              "Android Phone                        839637\n",
              "iPad Tablet                          683414\n",
              "Android App Unknown Phone/Tablet     273652\n",
              "-unknown-                            211279\n",
              "Tablet                               139886\n",
              "Linux Desktop                         28373\n",
              "Chromebook                            22348\n",
              "iPodtouch                              8198\n",
              "Windows Phone                          2047\n",
              "Blackberry                              979\n",
              "Opera Phone                              68\n",
              "Name: device_type, dtype: int64"
            ]
          },
          "metadata": {
            "tags": []
          },
          "execution_count": 25
        }
      ]
    },
    {
      "cell_type": "markdown",
      "metadata": {
        "id": "OiEKwV7fksxp",
        "colab_type": "text"
      },
      "source": [
        "activities without any device information"
      ]
    },
    {
      "cell_type": "code",
      "metadata": {
        "id": "T_cY1prwkYZZ",
        "colab_type": "code",
        "colab": {
          "base_uri": "https://localhost:8080/",
          "height": 35
        },
        "outputId": "0278534c-0bab-492a-ebdd-a560149445f0"
      },
      "source": [
        "len(sessions[sessions['device_type'].isnull()])"
      ],
      "execution_count": null,
      "outputs": [
        {
          "output_type": "execute_result",
          "data": {
            "text/plain": [
              "0"
            ]
          },
          "metadata": {
            "tags": []
          },
          "execution_count": 26
        }
      ]
    },
    {
      "cell_type": "markdown",
      "metadata": {
        "id": "us1Mbajpltq_",
        "colab_type": "text"
      },
      "source": [
        "These are no sessions from unknown devices"
      ]
    },
    {
      "cell_type": "markdown",
      "metadata": {
        "id": "NASaglJalzB7",
        "colab_type": "text"
      },
      "source": [
        "**let us now analyse training users data for which we have to prediction their first destination**"
      ]
    },
    {
      "cell_type": "code",
      "metadata": {
        "id": "JNGB4vWdkxp0",
        "colab_type": "code",
        "colab": {
          "base_uri": "https://localhost:8080/",
          "height": 257
        },
        "outputId": "3adf9148-b6ed-4716-8aec-a2b3b8e3762e"
      },
      "source": [
        "train_users=pd.read_csv(\"/content/drive/My Drive/Data/airbnb/train_users_2.csv\")\n",
        "train_users.head()\n"
      ],
      "execution_count": null,
      "outputs": [
        {
          "output_type": "execute_result",
          "data": {
            "text/html": [
              "<div>\n",
              "<style scoped>\n",
              "    .dataframe tbody tr th:only-of-type {\n",
              "        vertical-align: middle;\n",
              "    }\n",
              "\n",
              "    .dataframe tbody tr th {\n",
              "        vertical-align: top;\n",
              "    }\n",
              "\n",
              "    .dataframe thead th {\n",
              "        text-align: right;\n",
              "    }\n",
              "</style>\n",
              "<table border=\"1\" class=\"dataframe\">\n",
              "  <thead>\n",
              "    <tr style=\"text-align: right;\">\n",
              "      <th></th>\n",
              "      <th>id</th>\n",
              "      <th>date_account_created</th>\n",
              "      <th>timestamp_first_active</th>\n",
              "      <th>date_first_booking</th>\n",
              "      <th>gender</th>\n",
              "      <th>age</th>\n",
              "      <th>signup_method</th>\n",
              "      <th>signup_flow</th>\n",
              "      <th>language</th>\n",
              "      <th>affiliate_channel</th>\n",
              "      <th>affiliate_provider</th>\n",
              "      <th>first_affiliate_tracked</th>\n",
              "      <th>signup_app</th>\n",
              "      <th>first_device_type</th>\n",
              "      <th>first_browser</th>\n",
              "      <th>country_destination</th>\n",
              "    </tr>\n",
              "  </thead>\n",
              "  <tbody>\n",
              "    <tr>\n",
              "      <th>0</th>\n",
              "      <td>gxn3p5htnn</td>\n",
              "      <td>2010-06-28</td>\n",
              "      <td>20090319043255</td>\n",
              "      <td>NaN</td>\n",
              "      <td>-unknown-</td>\n",
              "      <td>NaN</td>\n",
              "      <td>facebook</td>\n",
              "      <td>0</td>\n",
              "      <td>en</td>\n",
              "      <td>direct</td>\n",
              "      <td>direct</td>\n",
              "      <td>untracked</td>\n",
              "      <td>Web</td>\n",
              "      <td>Mac Desktop</td>\n",
              "      <td>Chrome</td>\n",
              "      <td>NDF</td>\n",
              "    </tr>\n",
              "    <tr>\n",
              "      <th>1</th>\n",
              "      <td>820tgsjxq7</td>\n",
              "      <td>2011-05-25</td>\n",
              "      <td>20090523174809</td>\n",
              "      <td>NaN</td>\n",
              "      <td>MALE</td>\n",
              "      <td>38.0</td>\n",
              "      <td>facebook</td>\n",
              "      <td>0</td>\n",
              "      <td>en</td>\n",
              "      <td>seo</td>\n",
              "      <td>google</td>\n",
              "      <td>untracked</td>\n",
              "      <td>Web</td>\n",
              "      <td>Mac Desktop</td>\n",
              "      <td>Chrome</td>\n",
              "      <td>NDF</td>\n",
              "    </tr>\n",
              "    <tr>\n",
              "      <th>2</th>\n",
              "      <td>4ft3gnwmtx</td>\n",
              "      <td>2010-09-28</td>\n",
              "      <td>20090609231247</td>\n",
              "      <td>2010-08-02</td>\n",
              "      <td>FEMALE</td>\n",
              "      <td>56.0</td>\n",
              "      <td>basic</td>\n",
              "      <td>3</td>\n",
              "      <td>en</td>\n",
              "      <td>direct</td>\n",
              "      <td>direct</td>\n",
              "      <td>untracked</td>\n",
              "      <td>Web</td>\n",
              "      <td>Windows Desktop</td>\n",
              "      <td>IE</td>\n",
              "      <td>US</td>\n",
              "    </tr>\n",
              "    <tr>\n",
              "      <th>3</th>\n",
              "      <td>bjjt8pjhuk</td>\n",
              "      <td>2011-12-05</td>\n",
              "      <td>20091031060129</td>\n",
              "      <td>2012-09-08</td>\n",
              "      <td>FEMALE</td>\n",
              "      <td>42.0</td>\n",
              "      <td>facebook</td>\n",
              "      <td>0</td>\n",
              "      <td>en</td>\n",
              "      <td>direct</td>\n",
              "      <td>direct</td>\n",
              "      <td>untracked</td>\n",
              "      <td>Web</td>\n",
              "      <td>Mac Desktop</td>\n",
              "      <td>Firefox</td>\n",
              "      <td>other</td>\n",
              "    </tr>\n",
              "    <tr>\n",
              "      <th>4</th>\n",
              "      <td>87mebub9p4</td>\n",
              "      <td>2010-09-14</td>\n",
              "      <td>20091208061105</td>\n",
              "      <td>2010-02-18</td>\n",
              "      <td>-unknown-</td>\n",
              "      <td>41.0</td>\n",
              "      <td>basic</td>\n",
              "      <td>0</td>\n",
              "      <td>en</td>\n",
              "      <td>direct</td>\n",
              "      <td>direct</td>\n",
              "      <td>untracked</td>\n",
              "      <td>Web</td>\n",
              "      <td>Mac Desktop</td>\n",
              "      <td>Chrome</td>\n",
              "      <td>US</td>\n",
              "    </tr>\n",
              "  </tbody>\n",
              "</table>\n",
              "</div>"
            ],
            "text/plain": [
              "           id date_account_created  ...  first_browser country_destination\n",
              "0  gxn3p5htnn           2010-06-28  ...         Chrome                 NDF\n",
              "1  820tgsjxq7           2011-05-25  ...         Chrome                 NDF\n",
              "2  4ft3gnwmtx           2010-09-28  ...             IE                  US\n",
              "3  bjjt8pjhuk           2011-12-05  ...        Firefox               other\n",
              "4  87mebub9p4           2010-09-14  ...         Chrome                  US\n",
              "\n",
              "[5 rows x 16 columns]"
            ]
          },
          "metadata": {
            "tags": []
          },
          "execution_count": 27
        }
      ]
    },
    {
      "cell_type": "markdown",
      "metadata": {
        "id": "4vnGxd7koLwI",
        "colab_type": "text"
      },
      "source": [
        "replacing unknown values in gender and first browser "
      ]
    },
    {
      "cell_type": "code",
      "metadata": {
        "id": "s_gZ_vNMmHfx",
        "colab_type": "code",
        "colab": {}
      },
      "source": [
        "train_users['gender']=train_users['gender'].replace('-unknown-',np.nan)\n",
        "train_users['first_browser']=train_users['first_browser'].replace('-unknown-',np.nan)"
      ],
      "execution_count": null,
      "outputs": []
    },
    {
      "cell_type": "code",
      "metadata": {
        "id": "KWAuGBAe13Gj",
        "colab_type": "code",
        "colab": {
          "base_uri": "https://localhost:8080/",
          "height": 225
        },
        "outputId": "036e5a8a-f1c2-4e9b-a57b-c246005a3cb4"
      },
      "source": [
        "train_users.gender.astype(str)"
      ],
      "execution_count": null,
      "outputs": [
        {
          "output_type": "execute_result",
          "data": {
            "text/plain": [
              "0            nan\n",
              "1           MALE\n",
              "2         FEMALE\n",
              "3         FEMALE\n",
              "4            nan\n",
              "           ...  \n",
              "213446      MALE\n",
              "213447       nan\n",
              "213448       nan\n",
              "213449       nan\n",
              "213450       nan\n",
              "Name: gender, Length: 213451, dtype: object"
            ]
          },
          "metadata": {
            "tags": []
          },
          "execution_count": 29
        }
      ]
    },
    {
      "cell_type": "code",
      "metadata": {
        "id": "_BryvoXY0AwS",
        "colab_type": "code",
        "colab": {
          "base_uri": "https://localhost:8080/",
          "height": 435
        },
        "outputId": "401f5457-cdf9-4286-8714-0bdaaad7e420"
      },
      "source": [
        "train_users[train_users['age']>120]"
      ],
      "execution_count": null,
      "outputs": [
        {
          "output_type": "execute_result",
          "data": {
            "text/html": [
              "<div>\n",
              "<style scoped>\n",
              "    .dataframe tbody tr th:only-of-type {\n",
              "        vertical-align: middle;\n",
              "    }\n",
              "\n",
              "    .dataframe tbody tr th {\n",
              "        vertical-align: top;\n",
              "    }\n",
              "\n",
              "    .dataframe thead th {\n",
              "        text-align: right;\n",
              "    }\n",
              "</style>\n",
              "<table border=\"1\" class=\"dataframe\">\n",
              "  <thead>\n",
              "    <tr style=\"text-align: right;\">\n",
              "      <th></th>\n",
              "      <th>id</th>\n",
              "      <th>date_account_created</th>\n",
              "      <th>timestamp_first_active</th>\n",
              "      <th>date_first_booking</th>\n",
              "      <th>gender</th>\n",
              "      <th>age</th>\n",
              "      <th>signup_method</th>\n",
              "      <th>signup_flow</th>\n",
              "      <th>language</th>\n",
              "      <th>affiliate_channel</th>\n",
              "      <th>affiliate_provider</th>\n",
              "      <th>first_affiliate_tracked</th>\n",
              "      <th>signup_app</th>\n",
              "      <th>first_device_type</th>\n",
              "      <th>first_browser</th>\n",
              "      <th>country_destination</th>\n",
              "    </tr>\n",
              "  </thead>\n",
              "  <tbody>\n",
              "    <tr>\n",
              "      <th>388</th>\n",
              "      <td>v2x0ms9c62</td>\n",
              "      <td>2010-04-11</td>\n",
              "      <td>20100411065602</td>\n",
              "      <td>2010-04-13</td>\n",
              "      <td>NaN</td>\n",
              "      <td>2014.0</td>\n",
              "      <td>basic</td>\n",
              "      <td>3</td>\n",
              "      <td>en</td>\n",
              "      <td>other</td>\n",
              "      <td>craigslist</td>\n",
              "      <td>untracked</td>\n",
              "      <td>Web</td>\n",
              "      <td>Windows Desktop</td>\n",
              "      <td>Firefox</td>\n",
              "      <td>FR</td>\n",
              "    </tr>\n",
              "    <tr>\n",
              "      <th>673</th>\n",
              "      <td>umf1wdk9uc</td>\n",
              "      <td>2010-05-25</td>\n",
              "      <td>20100525155541</td>\n",
              "      <td>NaN</td>\n",
              "      <td>FEMALE</td>\n",
              "      <td>2014.0</td>\n",
              "      <td>basic</td>\n",
              "      <td>2</td>\n",
              "      <td>en</td>\n",
              "      <td>other</td>\n",
              "      <td>craigslist</td>\n",
              "      <td>untracked</td>\n",
              "      <td>Web</td>\n",
              "      <td>Mac Desktop</td>\n",
              "      <td>Safari</td>\n",
              "      <td>NDF</td>\n",
              "    </tr>\n",
              "    <tr>\n",
              "      <th>1040</th>\n",
              "      <td>m82epwn7i8</td>\n",
              "      <td>2010-07-14</td>\n",
              "      <td>20100714230556</td>\n",
              "      <td>2010-07-15</td>\n",
              "      <td>MALE</td>\n",
              "      <td>2014.0</td>\n",
              "      <td>facebook</td>\n",
              "      <td>0</td>\n",
              "      <td>en</td>\n",
              "      <td>other</td>\n",
              "      <td>craigslist</td>\n",
              "      <td>untracked</td>\n",
              "      <td>Web</td>\n",
              "      <td>Mac Desktop</td>\n",
              "      <td>Chrome</td>\n",
              "      <td>US</td>\n",
              "    </tr>\n",
              "    <tr>\n",
              "      <th>1177</th>\n",
              "      <td>2th813zdx7</td>\n",
              "      <td>2010-07-25</td>\n",
              "      <td>20100725234419</td>\n",
              "      <td>2010-07-26</td>\n",
              "      <td>MALE</td>\n",
              "      <td>2013.0</td>\n",
              "      <td>facebook</td>\n",
              "      <td>3</td>\n",
              "      <td>en</td>\n",
              "      <td>direct</td>\n",
              "      <td>direct</td>\n",
              "      <td>untracked</td>\n",
              "      <td>Web</td>\n",
              "      <td>Mac Desktop</td>\n",
              "      <td>Chrome</td>\n",
              "      <td>US</td>\n",
              "    </tr>\n",
              "    <tr>\n",
              "      <th>1200</th>\n",
              "      <td>3amf04n3o3</td>\n",
              "      <td>2010-07-27</td>\n",
              "      <td>20100727190447</td>\n",
              "      <td>2010-07-29</td>\n",
              "      <td>FEMALE</td>\n",
              "      <td>2014.0</td>\n",
              "      <td>basic</td>\n",
              "      <td>2</td>\n",
              "      <td>en</td>\n",
              "      <td>direct</td>\n",
              "      <td>direct</td>\n",
              "      <td>untracked</td>\n",
              "      <td>Web</td>\n",
              "      <td>Windows Desktop</td>\n",
              "      <td>IE</td>\n",
              "      <td>US</td>\n",
              "    </tr>\n",
              "    <tr>\n",
              "      <th>...</th>\n",
              "      <td>...</td>\n",
              "      <td>...</td>\n",
              "      <td>...</td>\n",
              "      <td>...</td>\n",
              "      <td>...</td>\n",
              "      <td>...</td>\n",
              "      <td>...</td>\n",
              "      <td>...</td>\n",
              "      <td>...</td>\n",
              "      <td>...</td>\n",
              "      <td>...</td>\n",
              "      <td>...</td>\n",
              "      <td>...</td>\n",
              "      <td>...</td>\n",
              "      <td>...</td>\n",
              "      <td>...</td>\n",
              "    </tr>\n",
              "    <tr>\n",
              "      <th>197386</th>\n",
              "      <td>99y83scsje</td>\n",
              "      <td>2014-05-31</td>\n",
              "      <td>20140531031949</td>\n",
              "      <td>2014-05-31</td>\n",
              "      <td>FEMALE</td>\n",
              "      <td>1938.0</td>\n",
              "      <td>basic</td>\n",
              "      <td>0</td>\n",
              "      <td>en</td>\n",
              "      <td>sem-brand</td>\n",
              "      <td>google</td>\n",
              "      <td>omg</td>\n",
              "      <td>Web</td>\n",
              "      <td>Windows Desktop</td>\n",
              "      <td>IE</td>\n",
              "      <td>US</td>\n",
              "    </tr>\n",
              "    <tr>\n",
              "      <th>198888</th>\n",
              "      <td>io7z9esqaj</td>\n",
              "      <td>2014-06-03</td>\n",
              "      <td>20140603074958</td>\n",
              "      <td>2014-10-09</td>\n",
              "      <td>MALE</td>\n",
              "      <td>1924.0</td>\n",
              "      <td>facebook</td>\n",
              "      <td>23</td>\n",
              "      <td>en</td>\n",
              "      <td>direct</td>\n",
              "      <td>direct</td>\n",
              "      <td>untracked</td>\n",
              "      <td>Android</td>\n",
              "      <td>Other/Unknown</td>\n",
              "      <td>NaN</td>\n",
              "      <td>US</td>\n",
              "    </tr>\n",
              "    <tr>\n",
              "      <th>206249</th>\n",
              "      <td>zmlbfc7cso</td>\n",
              "      <td>2014-06-17</td>\n",
              "      <td>20140617230607</td>\n",
              "      <td>2014-06-20</td>\n",
              "      <td>FEMALE</td>\n",
              "      <td>1947.0</td>\n",
              "      <td>basic</td>\n",
              "      <td>0</td>\n",
              "      <td>en</td>\n",
              "      <td>seo</td>\n",
              "      <td>google</td>\n",
              "      <td>linked</td>\n",
              "      <td>Web</td>\n",
              "      <td>Windows Desktop</td>\n",
              "      <td>Chrome</td>\n",
              "      <td>US</td>\n",
              "    </tr>\n",
              "    <tr>\n",
              "      <th>208819</th>\n",
              "      <td>0dn4tfj6gw</td>\n",
              "      <td>2014-06-22</td>\n",
              "      <td>20140622214130</td>\n",
              "      <td>NaN</td>\n",
              "      <td>FEMALE</td>\n",
              "      <td>1949.0</td>\n",
              "      <td>basic</td>\n",
              "      <td>0</td>\n",
              "      <td>en</td>\n",
              "      <td>direct</td>\n",
              "      <td>direct</td>\n",
              "      <td>untracked</td>\n",
              "      <td>Moweb</td>\n",
              "      <td>Android Phone</td>\n",
              "      <td>Chrome Mobile</td>\n",
              "      <td>NDF</td>\n",
              "    </tr>\n",
              "    <tr>\n",
              "      <th>211496</th>\n",
              "      <td>025sv1949e</td>\n",
              "      <td>2014-06-27</td>\n",
              "      <td>20140627043908</td>\n",
              "      <td>2014-07-11</td>\n",
              "      <td>FEMALE</td>\n",
              "      <td>1926.0</td>\n",
              "      <td>basic</td>\n",
              "      <td>0</td>\n",
              "      <td>en</td>\n",
              "      <td>direct</td>\n",
              "      <td>direct</td>\n",
              "      <td>untracked</td>\n",
              "      <td>Web</td>\n",
              "      <td>Windows Desktop</td>\n",
              "      <td>Firefox</td>\n",
              "      <td>US</td>\n",
              "    </tr>\n",
              "  </tbody>\n",
              "</table>\n",
              "<p>781 rows × 16 columns</p>\n",
              "</div>"
            ],
            "text/plain": [
              "                id date_account_created  ...  first_browser country_destination\n",
              "388     v2x0ms9c62           2010-04-11  ...        Firefox                  FR\n",
              "673     umf1wdk9uc           2010-05-25  ...         Safari                 NDF\n",
              "1040    m82epwn7i8           2010-07-14  ...         Chrome                  US\n",
              "1177    2th813zdx7           2010-07-25  ...         Chrome                  US\n",
              "1200    3amf04n3o3           2010-07-27  ...             IE                  US\n",
              "...            ...                  ...  ...            ...                 ...\n",
              "197386  99y83scsje           2014-05-31  ...             IE                  US\n",
              "198888  io7z9esqaj           2014-06-03  ...            NaN                  US\n",
              "206249  zmlbfc7cso           2014-06-17  ...         Chrome                  US\n",
              "208819  0dn4tfj6gw           2014-06-22  ...  Chrome Mobile                 NDF\n",
              "211496  025sv1949e           2014-06-27  ...        Firefox                  US\n",
              "\n",
              "[781 rows x 16 columns]"
            ]
          },
          "metadata": {
            "tags": []
          },
          "execution_count": 30
        }
      ]
    },
    {
      "cell_type": "markdown",
      "metadata": {
        "id": "HL979N9J1aC8",
        "colab_type": "text"
      },
      "source": [
        "We can see there are age values much greater than 104. these wrong age values will affect the analysis so let us replace these values with NAN"
      ]
    },
    {
      "cell_type": "code",
      "metadata": {
        "id": "luUwRX2o1rbK",
        "colab_type": "code",
        "colab": {}
      },
      "source": [
        "train_users['age']=train_users['age'].apply(lambda x:np.nan if x>120 else x)"
      ],
      "execution_count": null,
      "outputs": []
    },
    {
      "cell_type": "code",
      "metadata": {
        "id": "6KMpKW5Z15Dh",
        "colab_type": "code",
        "colab": {
          "base_uri": "https://localhost:8080/",
          "height": 69
        },
        "outputId": "6afbf926-4e45-4314-d904-de81c8934fdc"
      },
      "source": [
        "train_users[train_users['age']>115]"
      ],
      "execution_count": null,
      "outputs": [
        {
          "output_type": "execute_result",
          "data": {
            "text/html": [
              "<div>\n",
              "<style scoped>\n",
              "    .dataframe tbody tr th:only-of-type {\n",
              "        vertical-align: middle;\n",
              "    }\n",
              "\n",
              "    .dataframe tbody tr th {\n",
              "        vertical-align: top;\n",
              "    }\n",
              "\n",
              "    .dataframe thead th {\n",
              "        text-align: right;\n",
              "    }\n",
              "</style>\n",
              "<table border=\"1\" class=\"dataframe\">\n",
              "  <thead>\n",
              "    <tr style=\"text-align: right;\">\n",
              "      <th></th>\n",
              "      <th>id</th>\n",
              "      <th>date_account_created</th>\n",
              "      <th>timestamp_first_active</th>\n",
              "      <th>date_first_booking</th>\n",
              "      <th>gender</th>\n",
              "      <th>age</th>\n",
              "      <th>signup_method</th>\n",
              "      <th>signup_flow</th>\n",
              "      <th>language</th>\n",
              "      <th>affiliate_channel</th>\n",
              "      <th>affiliate_provider</th>\n",
              "      <th>first_affiliate_tracked</th>\n",
              "      <th>signup_app</th>\n",
              "      <th>first_device_type</th>\n",
              "      <th>first_browser</th>\n",
              "      <th>country_destination</th>\n",
              "    </tr>\n",
              "  </thead>\n",
              "  <tbody>\n",
              "  </tbody>\n",
              "</table>\n",
              "</div>"
            ],
            "text/plain": [
              "Empty DataFrame\n",
              "Columns: [id, date_account_created, timestamp_first_active, date_first_booking, gender, age, signup_method, signup_flow, language, affiliate_channel, affiliate_provider, first_affiliate_tracked, signup_app, first_device_type, first_browser, country_destination]\n",
              "Index: []"
            ]
          },
          "metadata": {
            "tags": []
          },
          "execution_count": 32
        }
      ]
    },
    {
      "cell_type": "markdown",
      "metadata": {
        "id": "oQP1yCYly2_8",
        "colab_type": "text"
      },
      "source": [
        "Finding all the columns which have null values"
      ]
    },
    {
      "cell_type": "code",
      "metadata": {
        "id": "slv0CzXemuF9",
        "colab_type": "code",
        "colab": {
          "base_uri": "https://localhost:8080/",
          "height": 312
        },
        "outputId": "553503ec-474d-474d-e51d-af0613aef8da"
      },
      "source": [
        "train_users.isna().any()"
      ],
      "execution_count": null,
      "outputs": [
        {
          "output_type": "execute_result",
          "data": {
            "text/plain": [
              "id                         False\n",
              "date_account_created       False\n",
              "timestamp_first_active     False\n",
              "date_first_booking          True\n",
              "gender                      True\n",
              "age                         True\n",
              "signup_method              False\n",
              "signup_flow                False\n",
              "language                   False\n",
              "affiliate_channel          False\n",
              "affiliate_provider         False\n",
              "first_affiliate_tracked     True\n",
              "signup_app                 False\n",
              "first_device_type          False\n",
              "first_browser               True\n",
              "country_destination        False\n",
              "dtype: bool"
            ]
          },
          "metadata": {
            "tags": []
          },
          "execution_count": 33
        }
      ]
    },
    {
      "cell_type": "markdown",
      "metadata": {
        "id": "ChEvNhtryx3R",
        "colab_type": "text"
      },
      "source": [
        "Changing data type of date"
      ]
    },
    {
      "cell_type": "code",
      "metadata": {
        "id": "5Cz1f-ByrdcT",
        "colab_type": "code",
        "colab": {}
      },
      "source": [
        "df_accounts=train_users.groupby('date_account_created')['id'].count().reset_index()\n",
        "df_accounts['date_account_created'] = df_accounts['date_account_created'].astype('datetime64[ns]') "
      ],
      "execution_count": null,
      "outputs": []
    },
    {
      "cell_type": "markdown",
      "metadata": {
        "id": "fQZyLZSWyuPV",
        "colab_type": "text"
      },
      "source": [
        "Number of new accounts created each year"
      ]
    },
    {
      "cell_type": "code",
      "metadata": {
        "id": "7j9xzLNqtM3x",
        "colab_type": "code",
        "colab": {
          "base_uri": "https://localhost:8080/",
          "height": 121
        },
        "outputId": "32563198-320c-460e-b951-8de8f5785980"
      },
      "source": [
        "df_accounts['date_account_created'].dt.year.value_counts()\n"
      ],
      "execution_count": null,
      "outputs": [
        {
          "output_type": "execute_result",
          "data": {
            "text/plain": [
              "2012    366\n",
              "2013    365\n",
              "2011    365\n",
              "2010    357\n",
              "2014    181\n",
              "Name: date_account_created, dtype: int64"
            ]
          },
          "metadata": {
            "tags": []
          },
          "execution_count": 35
        }
      ]
    },
    {
      "cell_type": "markdown",
      "metadata": {
        "id": "vYlkZF_DbYbi",
        "colab_type": "text"
      },
      "source": [
        "***STATISTICAL ANALYSIS ON THE DATA***\n",
        "\n",
        "First check: Let us check if there is any relationship between gender and country which means does the gender of a person affect the first country he/she books an airbnb? \n",
        "Since the number of destination countries is multivariable we use Chi Square  Significance Test.\n",
        "\n",
        "*Chi Square Significance Test:*<br> It is used to compare two set of data and see if there is any relationship between them. It give 'p' value which helps us to decide.\n",
        "\n",
        "A Detailed explanation on Chi Square Significance Test is explained clearly in below links:  \n",
        "https://math.hws.edu/javamath/ryan/ChiSquare.html <br>\n",
        "https://www.mathsisfun.com/data/chi-square-test.html \n",
        "\n",
        "STEP 1: State hypotheses  \n",
        "STEP 2: \n"
      ]
    },
    {
      "cell_type": "markdown",
      "metadata": {
        "id": "JFGnVS4q89Yo",
        "colab_type": "text"
      },
      "source": [
        "From Above we can these that there are null values in gender data so we have to remove those rows which have null value as gender.  \n",
        "Also we will remove  those users who has never booked an airbnb or booked in a country whose details are unknown"
      ]
    },
    {
      "cell_type": "code",
      "metadata": {
        "id": "lryHbYRPbagh",
        "colab_type": "code",
        "colab": {
          "base_uri": "https://localhost:8080/",
          "height": 52
        },
        "outputId": "abf23acb-61c1-403b-e086-13dc2f2a2e28"
      },
      "source": [
        "train_users['country_destination'].unique()"
      ],
      "execution_count": null,
      "outputs": [
        {
          "output_type": "execute_result",
          "data": {
            "text/plain": [
              "array(['NDF', 'US', 'other', 'FR', 'CA', 'GB', 'ES', 'IT', 'PT', 'NL',\n",
              "       'DE', 'AU'], dtype=object)"
            ]
          },
          "metadata": {
            "tags": []
          },
          "execution_count": 36
        }
      ]
    },
    {
      "cell_type": "markdown",
      "metadata": {
        "id": "eiufTkqn-K3E",
        "colab_type": "text"
      },
      "source": [
        "There are two values 'NDF' and 'other' which are not required for our analysis\n"
      ]
    },
    {
      "cell_type": "code",
      "metadata": {
        "id": "Cp2l2Gxv_Wsd",
        "colab_type": "code",
        "colab": {}
      },
      "source": [
        ""
      ],
      "execution_count": null,
      "outputs": []
    },
    {
      "cell_type": "code",
      "metadata": {
        "id": "ygjrzGda-AEq",
        "colab_type": "code",
        "colab": {}
      },
      "source": [
        ""
      ],
      "execution_count": null,
      "outputs": []
    },
    {
      "cell_type": "markdown",
      "metadata": {
        "id": "EZm7i7r7AET6",
        "colab_type": "text"
      },
      "source": [
        "Now we can see there are no null values in gender and country destination columns. \n",
        "Lets make it as another dataframe"
      ]
    },
    {
      "cell_type": "code",
      "metadata": {
        "id": "H7KouGFv-pWV",
        "colab_type": "code",
        "colab": {}
      },
      "source": [
        "df_chi = train_users[(train_users['country_destination']!='NDF')  &  (train_users['country_destination']!='other')  &  (train_users['gender']!='OTHER')  &  \n",
        "            (train_users['gender'].notnull())]\n"
      ],
      "execution_count": null,
      "outputs": []
    },
    {
      "cell_type": "code",
      "metadata": {
        "id": "rBfjvXKTCV0a",
        "colab_type": "code",
        "colab": {
          "base_uri": "https://localhost:8080/",
          "height": 202
        },
        "outputId": "5241cea1-b4e2-43f5-bad4-32684f2b6637"
      },
      "source": [
        "df_chi=df_chi[['id','gender','country_destination']]\n",
        "df_chi.head()"
      ],
      "execution_count": null,
      "outputs": [
        {
          "output_type": "execute_result",
          "data": {
            "text/html": [
              "<div>\n",
              "<style scoped>\n",
              "    .dataframe tbody tr th:only-of-type {\n",
              "        vertical-align: middle;\n",
              "    }\n",
              "\n",
              "    .dataframe tbody tr th {\n",
              "        vertical-align: top;\n",
              "    }\n",
              "\n",
              "    .dataframe thead th {\n",
              "        text-align: right;\n",
              "    }\n",
              "</style>\n",
              "<table border=\"1\" class=\"dataframe\">\n",
              "  <thead>\n",
              "    <tr style=\"text-align: right;\">\n",
              "      <th></th>\n",
              "      <th>id</th>\n",
              "      <th>gender</th>\n",
              "      <th>country_destination</th>\n",
              "    </tr>\n",
              "  </thead>\n",
              "  <tbody>\n",
              "    <tr>\n",
              "      <th>2</th>\n",
              "      <td>4ft3gnwmtx</td>\n",
              "      <td>FEMALE</td>\n",
              "      <td>US</td>\n",
              "    </tr>\n",
              "    <tr>\n",
              "      <th>6</th>\n",
              "      <td>lsw9q7uk0j</td>\n",
              "      <td>FEMALE</td>\n",
              "      <td>US</td>\n",
              "    </tr>\n",
              "    <tr>\n",
              "      <th>7</th>\n",
              "      <td>0d01nltbrs</td>\n",
              "      <td>FEMALE</td>\n",
              "      <td>US</td>\n",
              "    </tr>\n",
              "    <tr>\n",
              "      <th>8</th>\n",
              "      <td>a1vcnhxeij</td>\n",
              "      <td>FEMALE</td>\n",
              "      <td>US</td>\n",
              "    </tr>\n",
              "    <tr>\n",
              "      <th>10</th>\n",
              "      <td>yuuqmid2rp</td>\n",
              "      <td>FEMALE</td>\n",
              "      <td>US</td>\n",
              "    </tr>\n",
              "  </tbody>\n",
              "</table>\n",
              "</div>"
            ],
            "text/plain": [
              "            id  gender country_destination\n",
              "2   4ft3gnwmtx  FEMALE                  US\n",
              "6   lsw9q7uk0j  FEMALE                  US\n",
              "7   0d01nltbrs  FEMALE                  US\n",
              "8   a1vcnhxeij  FEMALE                  US\n",
              "10  yuuqmid2rp  FEMALE                  US"
            ]
          },
          "metadata": {
            "tags": []
          },
          "execution_count": 38
        }
      ]
    },
    {
      "cell_type": "code",
      "metadata": {
        "id": "eWJdzjryAR08",
        "colab_type": "code",
        "colab": {
          "base_uri": "https://localhost:8080/",
          "height": 69
        },
        "outputId": "7d7c937a-0d4a-4417-c3a8-823a0c1b5541"
      },
      "source": [
        "df_chi['gender'].value_counts()"
      ],
      "execution_count": null,
      "outputs": [
        {
          "output_type": "execute_result",
          "data": {
            "text/plain": [
              "FEMALE    28833\n",
              "MALE      24278\n",
              "Name: gender, dtype: int64"
            ]
          },
          "metadata": {
            "tags": []
          },
          "execution_count": 39
        }
      ]
    },
    {
      "cell_type": "markdown",
      "metadata": {
        "id": "YyoO2nzgC8hF",
        "colab_type": "text"
      },
      "source": [
        "Let us define our Hypothesese as below:  \n",
        "Null Hypothesis: There is no relationship between gender and destination country  \n",
        "Alternate Hypothesis: There is relationship between gender and destination country\n",
        "\n",
        "Let us assume our significant level α = 0.05\n",
        "\n",
        "ALso let us make a contingency table with these categorical (gender) and numerical data (count total countries visited by male and female). This can be achieved by using pivot table"
      ]
    },
    {
      "cell_type": "code",
      "metadata": {
        "id": "ZDF3wmehBKnL",
        "colab_type": "code",
        "colab": {}
      },
      "source": [
        "df_contingency = df_chi.pivot_table('id',['gender'],'country_destination', aggfunc='count').reset_index()\n",
        "#df_contingency.columns.name = None #making column name as none so that gender can be made as index"
      ],
      "execution_count": null,
      "outputs": []
    },
    {
      "cell_type": "code",
      "metadata": {
        "id": "VzypdW5QzNxa",
        "colab_type": "code",
        "colab": {}
      },
      "source": [
        "df_contingency=df_contingency.reset_index(inplace=True)"
      ],
      "execution_count": null,
      "outputs": []
    },
    {
      "cell_type": "code",
      "metadata": {
        "id": "uQ4NqqtHHQeB",
        "colab_type": "code",
        "colab": {}
      },
      "source": [
        "df_contingency"
      ],
      "execution_count": null,
      "outputs": []
    },
    {
      "cell_type": "code",
      "metadata": {
        "id": "CXl8hxUeHiip",
        "colab_type": "code",
        "colab": {}
      },
      "source": [
        "df_contingency"
      ],
      "execution_count": null,
      "outputs": []
    },
    {
      "cell_type": "code",
      "metadata": {
        "id": "JJNBKbyIGUrN",
        "colab_type": "code",
        "colab": {}
      },
      "source": [
        "# df_contingency.index=['Female','Male']\n",
        "# #df_contingency.columns=['AU','CA','DE','ES','FR','GB','IT','NL','PT','US']\n",
        "# df_contingency"
      ],
      "execution_count": null,
      "outputs": []
    },
    {
      "cell_type": "markdown",
      "metadata": {
        "id": "Kx4GJkQgHG0c",
        "colab_type": "text"
      },
      "source": [
        "Using scipy stats module it is very easy to calculate p value and chi2 value. Along with it Degree of freedom is also returned. For detailed explanation please read scipy stats module documentation"
      ]
    },
    {
      "cell_type": "code",
      "metadata": {
        "id": "WZPkZYdS9Hpx",
        "colab_type": "code",
        "colab": {}
      },
      "source": [
        ""
      ],
      "execution_count": null,
      "outputs": []
    },
    {
      "cell_type": "code",
      "metadata": {
        "id": "FQhlsn7TGwqZ",
        "colab_type": "code",
        "colab": {}
      },
      "source": [
        "#stats.chi2_contingency(df_contingency)"
      ],
      "execution_count": null,
      "outputs": []
    },
    {
      "cell_type": "markdown",
      "metadata": {
        "id": "qMlMjJAkBTlG",
        "colab_type": "text"
      },
      "source": [
        "**SIGNUP PREFERENCES**\n",
        "\n",
        "Let us now check if there is nay relationship between sigNup method and signup devices for airbnb booking.\n",
        "\n",
        "Let us follow the same Chi Square Significance Test to find the relationship. Along with it let us do z-statistic test (https://towardsdatascience.com/statistical-tests-when-to-use-which-704557554740 )to compare the results\n",
        "\n",
        "Hypothesis:  \n",
        "Null Hypothesis: There is no relationship between device type and signup method.  \n",
        "Alternate Hypothesis: There is a relationship between device type and signup method."
      ]
    },
    {
      "cell_type": "code",
      "metadata": {
        "id": "79hqbWY_EZyU",
        "colab_type": "code",
        "colab": {
          "base_uri": "https://localhost:8080/",
          "height": 435
        },
        "outputId": "43ef27da-7176-46cb-d304-3420b614c46c"
      },
      "source": [
        "train_users"
      ],
      "execution_count": null,
      "outputs": [
        {
          "output_type": "execute_result",
          "data": {
            "text/html": [
              "<div>\n",
              "<style scoped>\n",
              "    .dataframe tbody tr th:only-of-type {\n",
              "        vertical-align: middle;\n",
              "    }\n",
              "\n",
              "    .dataframe tbody tr th {\n",
              "        vertical-align: top;\n",
              "    }\n",
              "\n",
              "    .dataframe thead th {\n",
              "        text-align: right;\n",
              "    }\n",
              "</style>\n",
              "<table border=\"1\" class=\"dataframe\">\n",
              "  <thead>\n",
              "    <tr style=\"text-align: right;\">\n",
              "      <th></th>\n",
              "      <th>id</th>\n",
              "      <th>date_account_created</th>\n",
              "      <th>timestamp_first_active</th>\n",
              "      <th>date_first_booking</th>\n",
              "      <th>gender</th>\n",
              "      <th>age</th>\n",
              "      <th>signup_method</th>\n",
              "      <th>signup_flow</th>\n",
              "      <th>language</th>\n",
              "      <th>affiliate_channel</th>\n",
              "      <th>affiliate_provider</th>\n",
              "      <th>first_affiliate_tracked</th>\n",
              "      <th>signup_app</th>\n",
              "      <th>first_device_type</th>\n",
              "      <th>first_browser</th>\n",
              "      <th>country_destination</th>\n",
              "    </tr>\n",
              "  </thead>\n",
              "  <tbody>\n",
              "    <tr>\n",
              "      <th>0</th>\n",
              "      <td>gxn3p5htnn</td>\n",
              "      <td>2010-06-28</td>\n",
              "      <td>20090319043255</td>\n",
              "      <td>NaN</td>\n",
              "      <td>NaN</td>\n",
              "      <td>NaN</td>\n",
              "      <td>facebook</td>\n",
              "      <td>0</td>\n",
              "      <td>en</td>\n",
              "      <td>direct</td>\n",
              "      <td>direct</td>\n",
              "      <td>untracked</td>\n",
              "      <td>Web</td>\n",
              "      <td>Mac Desktop</td>\n",
              "      <td>Chrome</td>\n",
              "      <td>NDF</td>\n",
              "    </tr>\n",
              "    <tr>\n",
              "      <th>1</th>\n",
              "      <td>820tgsjxq7</td>\n",
              "      <td>2011-05-25</td>\n",
              "      <td>20090523174809</td>\n",
              "      <td>NaN</td>\n",
              "      <td>MALE</td>\n",
              "      <td>38.0</td>\n",
              "      <td>facebook</td>\n",
              "      <td>0</td>\n",
              "      <td>en</td>\n",
              "      <td>seo</td>\n",
              "      <td>google</td>\n",
              "      <td>untracked</td>\n",
              "      <td>Web</td>\n",
              "      <td>Mac Desktop</td>\n",
              "      <td>Chrome</td>\n",
              "      <td>NDF</td>\n",
              "    </tr>\n",
              "    <tr>\n",
              "      <th>2</th>\n",
              "      <td>4ft3gnwmtx</td>\n",
              "      <td>2010-09-28</td>\n",
              "      <td>20090609231247</td>\n",
              "      <td>2010-08-02</td>\n",
              "      <td>FEMALE</td>\n",
              "      <td>56.0</td>\n",
              "      <td>basic</td>\n",
              "      <td>3</td>\n",
              "      <td>en</td>\n",
              "      <td>direct</td>\n",
              "      <td>direct</td>\n",
              "      <td>untracked</td>\n",
              "      <td>Web</td>\n",
              "      <td>Windows Desktop</td>\n",
              "      <td>IE</td>\n",
              "      <td>US</td>\n",
              "    </tr>\n",
              "    <tr>\n",
              "      <th>3</th>\n",
              "      <td>bjjt8pjhuk</td>\n",
              "      <td>2011-12-05</td>\n",
              "      <td>20091031060129</td>\n",
              "      <td>2012-09-08</td>\n",
              "      <td>FEMALE</td>\n",
              "      <td>42.0</td>\n",
              "      <td>facebook</td>\n",
              "      <td>0</td>\n",
              "      <td>en</td>\n",
              "      <td>direct</td>\n",
              "      <td>direct</td>\n",
              "      <td>untracked</td>\n",
              "      <td>Web</td>\n",
              "      <td>Mac Desktop</td>\n",
              "      <td>Firefox</td>\n",
              "      <td>other</td>\n",
              "    </tr>\n",
              "    <tr>\n",
              "      <th>4</th>\n",
              "      <td>87mebub9p4</td>\n",
              "      <td>2010-09-14</td>\n",
              "      <td>20091208061105</td>\n",
              "      <td>2010-02-18</td>\n",
              "      <td>NaN</td>\n",
              "      <td>41.0</td>\n",
              "      <td>basic</td>\n",
              "      <td>0</td>\n",
              "      <td>en</td>\n",
              "      <td>direct</td>\n",
              "      <td>direct</td>\n",
              "      <td>untracked</td>\n",
              "      <td>Web</td>\n",
              "      <td>Mac Desktop</td>\n",
              "      <td>Chrome</td>\n",
              "      <td>US</td>\n",
              "    </tr>\n",
              "    <tr>\n",
              "      <th>...</th>\n",
              "      <td>...</td>\n",
              "      <td>...</td>\n",
              "      <td>...</td>\n",
              "      <td>...</td>\n",
              "      <td>...</td>\n",
              "      <td>...</td>\n",
              "      <td>...</td>\n",
              "      <td>...</td>\n",
              "      <td>...</td>\n",
              "      <td>...</td>\n",
              "      <td>...</td>\n",
              "      <td>...</td>\n",
              "      <td>...</td>\n",
              "      <td>...</td>\n",
              "      <td>...</td>\n",
              "      <td>...</td>\n",
              "    </tr>\n",
              "    <tr>\n",
              "      <th>213446</th>\n",
              "      <td>zxodksqpep</td>\n",
              "      <td>2014-06-30</td>\n",
              "      <td>20140630235636</td>\n",
              "      <td>NaN</td>\n",
              "      <td>MALE</td>\n",
              "      <td>32.0</td>\n",
              "      <td>basic</td>\n",
              "      <td>0</td>\n",
              "      <td>en</td>\n",
              "      <td>sem-brand</td>\n",
              "      <td>google</td>\n",
              "      <td>omg</td>\n",
              "      <td>Web</td>\n",
              "      <td>Mac Desktop</td>\n",
              "      <td>Safari</td>\n",
              "      <td>NDF</td>\n",
              "    </tr>\n",
              "    <tr>\n",
              "      <th>213447</th>\n",
              "      <td>mhewnxesx9</td>\n",
              "      <td>2014-06-30</td>\n",
              "      <td>20140630235719</td>\n",
              "      <td>NaN</td>\n",
              "      <td>NaN</td>\n",
              "      <td>NaN</td>\n",
              "      <td>basic</td>\n",
              "      <td>0</td>\n",
              "      <td>en</td>\n",
              "      <td>direct</td>\n",
              "      <td>direct</td>\n",
              "      <td>linked</td>\n",
              "      <td>Web</td>\n",
              "      <td>Windows Desktop</td>\n",
              "      <td>Chrome</td>\n",
              "      <td>NDF</td>\n",
              "    </tr>\n",
              "    <tr>\n",
              "      <th>213448</th>\n",
              "      <td>6o3arsjbb4</td>\n",
              "      <td>2014-06-30</td>\n",
              "      <td>20140630235754</td>\n",
              "      <td>NaN</td>\n",
              "      <td>NaN</td>\n",
              "      <td>32.0</td>\n",
              "      <td>basic</td>\n",
              "      <td>0</td>\n",
              "      <td>en</td>\n",
              "      <td>direct</td>\n",
              "      <td>direct</td>\n",
              "      <td>untracked</td>\n",
              "      <td>Web</td>\n",
              "      <td>Mac Desktop</td>\n",
              "      <td>Firefox</td>\n",
              "      <td>NDF</td>\n",
              "    </tr>\n",
              "    <tr>\n",
              "      <th>213449</th>\n",
              "      <td>jh95kwisub</td>\n",
              "      <td>2014-06-30</td>\n",
              "      <td>20140630235822</td>\n",
              "      <td>NaN</td>\n",
              "      <td>NaN</td>\n",
              "      <td>NaN</td>\n",
              "      <td>basic</td>\n",
              "      <td>25</td>\n",
              "      <td>en</td>\n",
              "      <td>other</td>\n",
              "      <td>other</td>\n",
              "      <td>tracked-other</td>\n",
              "      <td>iOS</td>\n",
              "      <td>iPhone</td>\n",
              "      <td>Mobile Safari</td>\n",
              "      <td>NDF</td>\n",
              "    </tr>\n",
              "    <tr>\n",
              "      <th>213450</th>\n",
              "      <td>nw9fwlyb5f</td>\n",
              "      <td>2014-06-30</td>\n",
              "      <td>20140630235824</td>\n",
              "      <td>NaN</td>\n",
              "      <td>NaN</td>\n",
              "      <td>NaN</td>\n",
              "      <td>basic</td>\n",
              "      <td>25</td>\n",
              "      <td>en</td>\n",
              "      <td>direct</td>\n",
              "      <td>direct</td>\n",
              "      <td>untracked</td>\n",
              "      <td>iOS</td>\n",
              "      <td>iPhone</td>\n",
              "      <td>NaN</td>\n",
              "      <td>NDF</td>\n",
              "    </tr>\n",
              "  </tbody>\n",
              "</table>\n",
              "<p>213451 rows × 16 columns</p>\n",
              "</div>"
            ],
            "text/plain": [
              "                id date_account_created  ...  first_browser country_destination\n",
              "0       gxn3p5htnn           2010-06-28  ...         Chrome                 NDF\n",
              "1       820tgsjxq7           2011-05-25  ...         Chrome                 NDF\n",
              "2       4ft3gnwmtx           2010-09-28  ...             IE                  US\n",
              "3       bjjt8pjhuk           2011-12-05  ...        Firefox               other\n",
              "4       87mebub9p4           2010-09-14  ...         Chrome                  US\n",
              "...            ...                  ...  ...            ...                 ...\n",
              "213446  zxodksqpep           2014-06-30  ...         Safari                 NDF\n",
              "213447  mhewnxesx9           2014-06-30  ...         Chrome                 NDF\n",
              "213448  6o3arsjbb4           2014-06-30  ...        Firefox                 NDF\n",
              "213449  jh95kwisub           2014-06-30  ...  Mobile Safari                 NDF\n",
              "213450  nw9fwlyb5f           2014-06-30  ...            NaN                 NDF\n",
              "\n",
              "[213451 rows x 16 columns]"
            ]
          },
          "metadata": {
            "tags": []
          },
          "execution_count": 46
        }
      ]
    },
    {
      "cell_type": "markdown",
      "metadata": {
        "id": "lQighUzZHEqz",
        "colab_type": "text"
      },
      "source": [
        "The are two columns which we have to concentrate now. Signup method and signup app.  \n",
        "let us categorize all form of signup into two type either pc or mobile"
      ]
    },
    {
      "cell_type": "code",
      "metadata": {
        "id": "oEP-jx--Ggs_",
        "colab_type": "code",
        "colab": {
          "base_uri": "https://localhost:8080/",
          "height": 87
        },
        "outputId": "2e699966-343e-4b0b-b195-27344dd29cd6"
      },
      "source": [
        "train_users['signup_method'].value_counts()"
      ],
      "execution_count": null,
      "outputs": [
        {
          "output_type": "execute_result",
          "data": {
            "text/plain": [
              "basic       152897\n",
              "facebook     60008\n",
              "google         546\n",
              "Name: signup_method, dtype: int64"
            ]
          },
          "metadata": {
            "tags": []
          },
          "execution_count": 47
        }
      ]
    },
    {
      "cell_type": "markdown",
      "metadata": {
        "id": "ROkf46LPG8HO",
        "colab_type": "text"
      },
      "source": [
        "As google has very less value count compare to other two methods, let us ignore it from this analysis\n",
        "The are two columns which we have to concentrate now. Signup method and signup app.  \n"
      ]
    },
    {
      "cell_type": "code",
      "metadata": {
        "id": "YvLVckoARdQ2",
        "colab_type": "code",
        "colab": {
          "base_uri": "https://localhost:8080/",
          "height": 69
        },
        "outputId": "f8afab2a-c149-470d-9166-4ba1bb6a88a6"
      },
      "source": [
        "df_signupmethod = train_users[(train_users['signup_method']!='google')][['id','signup_method','signup_app']]\n",
        "df_signupmethod['signup_method'].value_counts()\n"
      ],
      "execution_count": null,
      "outputs": [
        {
          "output_type": "execute_result",
          "data": {
            "text/plain": [
              "basic       152897\n",
              "facebook     60008\n",
              "Name: signup_method, dtype: int64"
            ]
          },
          "metadata": {
            "tags": []
          },
          "execution_count": 48
        }
      ]
    },
    {
      "cell_type": "code",
      "metadata": {
        "id": "NNTaS6FtQr6Q",
        "colab_type": "code",
        "colab": {
          "base_uri": "https://localhost:8080/",
          "height": 202
        },
        "outputId": "a6153204-2059-432a-9a47-0897d7795c95"
      },
      "source": [
        "df_signupmethod.head()"
      ],
      "execution_count": null,
      "outputs": [
        {
          "output_type": "execute_result",
          "data": {
            "text/html": [
              "<div>\n",
              "<style scoped>\n",
              "    .dataframe tbody tr th:only-of-type {\n",
              "        vertical-align: middle;\n",
              "    }\n",
              "\n",
              "    .dataframe tbody tr th {\n",
              "        vertical-align: top;\n",
              "    }\n",
              "\n",
              "    .dataframe thead th {\n",
              "        text-align: right;\n",
              "    }\n",
              "</style>\n",
              "<table border=\"1\" class=\"dataframe\">\n",
              "  <thead>\n",
              "    <tr style=\"text-align: right;\">\n",
              "      <th></th>\n",
              "      <th>id</th>\n",
              "      <th>signup_method</th>\n",
              "      <th>signup_app</th>\n",
              "    </tr>\n",
              "  </thead>\n",
              "  <tbody>\n",
              "    <tr>\n",
              "      <th>0</th>\n",
              "      <td>gxn3p5htnn</td>\n",
              "      <td>facebook</td>\n",
              "      <td>Web</td>\n",
              "    </tr>\n",
              "    <tr>\n",
              "      <th>1</th>\n",
              "      <td>820tgsjxq7</td>\n",
              "      <td>facebook</td>\n",
              "      <td>Web</td>\n",
              "    </tr>\n",
              "    <tr>\n",
              "      <th>2</th>\n",
              "      <td>4ft3gnwmtx</td>\n",
              "      <td>basic</td>\n",
              "      <td>Web</td>\n",
              "    </tr>\n",
              "    <tr>\n",
              "      <th>3</th>\n",
              "      <td>bjjt8pjhuk</td>\n",
              "      <td>facebook</td>\n",
              "      <td>Web</td>\n",
              "    </tr>\n",
              "    <tr>\n",
              "      <th>4</th>\n",
              "      <td>87mebub9p4</td>\n",
              "      <td>basic</td>\n",
              "      <td>Web</td>\n",
              "    </tr>\n",
              "  </tbody>\n",
              "</table>\n",
              "</div>"
            ],
            "text/plain": [
              "           id signup_method signup_app\n",
              "0  gxn3p5htnn      facebook        Web\n",
              "1  820tgsjxq7      facebook        Web\n",
              "2  4ft3gnwmtx         basic        Web\n",
              "3  bjjt8pjhuk      facebook        Web\n",
              "4  87mebub9p4         basic        Web"
            ]
          },
          "metadata": {
            "tags": []
          },
          "execution_count": 49
        }
      ]
    },
    {
      "cell_type": "markdown",
      "metadata": {
        "id": "tskrwGgzQC8N",
        "colab_type": "text"
      },
      "source": [
        "Let us check signup app details"
      ]
    },
    {
      "cell_type": "code",
      "metadata": {
        "id": "xsxHE4zmPuyz",
        "colab_type": "code",
        "colab": {
          "base_uri": "https://localhost:8080/",
          "height": 104
        },
        "outputId": "c3bcd84b-4ace-411b-dd66-1a349bd8166e"
      },
      "source": [
        "df_signupmethod['signup_app'].value_counts()"
      ],
      "execution_count": null,
      "outputs": [
        {
          "output_type": "execute_result",
          "data": {
            "text/plain": [
              "Web        182717\n",
              "iOS         19019\n",
              "Moweb        6261\n",
              "Android      4908\n",
              "Name: signup_app, dtype: int64"
            ]
          },
          "metadata": {
            "tags": []
          },
          "execution_count": 50
        }
      ]
    },
    {
      "cell_type": "markdown",
      "metadata": {
        "id": "GkVPyivnQPn7",
        "colab_type": "text"
      },
      "source": [
        "let us categorize all form of signup into two type either pc or mobile.Lets add it to df_signupmethod dataframe as a new column"
      ]
    },
    {
      "cell_type": "code",
      "metadata": {
        "id": "olBp8f_lQIG2",
        "colab_type": "code",
        "colab": {
          "base_uri": "https://localhost:8080/",
          "height": 202
        },
        "outputId": "0aad73df-83e7-4ff4-c7d0-7efb37ee8895"
      },
      "source": [
        "df_signupmethod['device']=df_signupmethod['signup_app'].apply(lambda x:'pc' if x=='Web' else 'mobile')\n",
        "#df_singupmethod['device'] = df_singupmethod['signup_app'].apply(lambda x: 'Computer' if x == 'Web' else 'Mobile')\n",
        "df_signupmethod.head()"
      ],
      "execution_count": null,
      "outputs": [
        {
          "output_type": "execute_result",
          "data": {
            "text/html": [
              "<div>\n",
              "<style scoped>\n",
              "    .dataframe tbody tr th:only-of-type {\n",
              "        vertical-align: middle;\n",
              "    }\n",
              "\n",
              "    .dataframe tbody tr th {\n",
              "        vertical-align: top;\n",
              "    }\n",
              "\n",
              "    .dataframe thead th {\n",
              "        text-align: right;\n",
              "    }\n",
              "</style>\n",
              "<table border=\"1\" class=\"dataframe\">\n",
              "  <thead>\n",
              "    <tr style=\"text-align: right;\">\n",
              "      <th></th>\n",
              "      <th>id</th>\n",
              "      <th>signup_method</th>\n",
              "      <th>signup_app</th>\n",
              "      <th>device</th>\n",
              "    </tr>\n",
              "  </thead>\n",
              "  <tbody>\n",
              "    <tr>\n",
              "      <th>0</th>\n",
              "      <td>gxn3p5htnn</td>\n",
              "      <td>facebook</td>\n",
              "      <td>Web</td>\n",
              "      <td>pc</td>\n",
              "    </tr>\n",
              "    <tr>\n",
              "      <th>1</th>\n",
              "      <td>820tgsjxq7</td>\n",
              "      <td>facebook</td>\n",
              "      <td>Web</td>\n",
              "      <td>pc</td>\n",
              "    </tr>\n",
              "    <tr>\n",
              "      <th>2</th>\n",
              "      <td>4ft3gnwmtx</td>\n",
              "      <td>basic</td>\n",
              "      <td>Web</td>\n",
              "      <td>pc</td>\n",
              "    </tr>\n",
              "    <tr>\n",
              "      <th>3</th>\n",
              "      <td>bjjt8pjhuk</td>\n",
              "      <td>facebook</td>\n",
              "      <td>Web</td>\n",
              "      <td>pc</td>\n",
              "    </tr>\n",
              "    <tr>\n",
              "      <th>4</th>\n",
              "      <td>87mebub9p4</td>\n",
              "      <td>basic</td>\n",
              "      <td>Web</td>\n",
              "      <td>pc</td>\n",
              "    </tr>\n",
              "  </tbody>\n",
              "</table>\n",
              "</div>"
            ],
            "text/plain": [
              "           id signup_method signup_app device\n",
              "0  gxn3p5htnn      facebook        Web     pc\n",
              "1  820tgsjxq7      facebook        Web     pc\n",
              "2  4ft3gnwmtx         basic        Web     pc\n",
              "3  bjjt8pjhuk      facebook        Web     pc\n",
              "4  87mebub9p4         basic        Web     pc"
            ]
          },
          "metadata": {
            "tags": []
          },
          "execution_count": 51
        }
      ]
    },
    {
      "cell_type": "code",
      "metadata": {
        "id": "WOcD9D5PU-Ll",
        "colab_type": "code",
        "colab": {
          "base_uri": "https://localhost:8080/",
          "height": 69
        },
        "outputId": "5ba5d0a7-35b9-443f-904a-3816c9184ae4"
      },
      "source": [
        "df_signupmethod['signup_method'].value_counts()"
      ],
      "execution_count": null,
      "outputs": [
        {
          "output_type": "execute_result",
          "data": {
            "text/plain": [
              "basic       152897\n",
              "facebook     60008\n",
              "Name: signup_method, dtype: int64"
            ]
          },
          "metadata": {
            "tags": []
          },
          "execution_count": 52
        }
      ]
    },
    {
      "cell_type": "code",
      "metadata": {
        "id": "Yx-TWz1HVMai",
        "colab_type": "code",
        "colab": {
          "base_uri": "https://localhost:8080/",
          "height": 69
        },
        "outputId": "27cff670-c3a1-4b08-e2b5-d257883cd619"
      },
      "source": [
        "df_signupmethod['device'].value_counts()"
      ],
      "execution_count": null,
      "outputs": [
        {
          "output_type": "execute_result",
          "data": {
            "text/plain": [
              "pc        182717\n",
              "mobile     30188\n",
              "Name: device, dtype: int64"
            ]
          },
          "metadata": {
            "tags": []
          },
          "execution_count": 53
        }
      ]
    },
    {
      "cell_type": "markdown",
      "metadata": {
        "id": "aIzMxMxbDjh4",
        "colab_type": "text"
      },
      "source": [
        "Hypothesis Testing"
      ]
    },
    {
      "cell_type": "code",
      "metadata": {
        "id": "WmSRU9duVZop",
        "colab_type": "code",
        "colab": {}
      },
      "source": [
        "df_signup_hypothesis=df_signupmethod.pivot_table('id',['device'],'signup_method',aggfunc='count')"
      ],
      "execution_count": null,
      "outputs": []
    },
    {
      "cell_type": "code",
      "metadata": {
        "id": "DNqlhK2pEpfI",
        "colab_type": "code",
        "colab": {}
      },
      "source": [
        "df_signup_hypothesis.index=['PC','Mobile']\n",
        "df_signup_hypothesis.columns=['Basic','Facebook']"
      ],
      "execution_count": null,
      "outputs": []
    },
    {
      "cell_type": "code",
      "metadata": {
        "id": "T6oBsKazFHfU",
        "colab_type": "code",
        "colab": {
          "base_uri": "https://localhost:8080/",
          "height": 110
        },
        "outputId": "55a4fa00-6d87-417d-c1c4-9167bdaacf22"
      },
      "source": [
        "df_signup_hypothesis"
      ],
      "execution_count": null,
      "outputs": [
        {
          "output_type": "execute_result",
          "data": {
            "text/html": [
              "<div>\n",
              "<style scoped>\n",
              "    .dataframe tbody tr th:only-of-type {\n",
              "        vertical-align: middle;\n",
              "    }\n",
              "\n",
              "    .dataframe tbody tr th {\n",
              "        vertical-align: top;\n",
              "    }\n",
              "\n",
              "    .dataframe thead th {\n",
              "        text-align: right;\n",
              "    }\n",
              "</style>\n",
              "<table border=\"1\" class=\"dataframe\">\n",
              "  <thead>\n",
              "    <tr style=\"text-align: right;\">\n",
              "      <th></th>\n",
              "      <th>Basic</th>\n",
              "      <th>Facebook</th>\n",
              "    </tr>\n",
              "  </thead>\n",
              "  <tbody>\n",
              "    <tr>\n",
              "      <th>PC</th>\n",
              "      <td>21660</td>\n",
              "      <td>8528</td>\n",
              "    </tr>\n",
              "    <tr>\n",
              "      <th>Mobile</th>\n",
              "      <td>131237</td>\n",
              "      <td>51480</td>\n",
              "    </tr>\n",
              "  </tbody>\n",
              "</table>\n",
              "</div>"
            ],
            "text/plain": [
              "         Basic  Facebook\n",
              "PC       21660      8528\n",
              "Mobile  131237     51480"
            ]
          },
          "metadata": {
            "tags": []
          },
          "execution_count": 56
        }
      ]
    },
    {
      "cell_type": "markdown",
      "metadata": {
        "id": "6sM3LGKbIUM6",
        "colab_type": "text"
      },
      "source": [
        "Chi2 Test"
      ]
    },
    {
      "cell_type": "code",
      "metadata": {
        "id": "fKBjaZBJFbKK",
        "colab_type": "code",
        "colab": {}
      },
      "source": [
        "chi2, p, dof, expected = stats.chi2_contingency(df_signup_hypothesis, correction=False)"
      ],
      "execution_count": null,
      "outputs": []
    },
    {
      "cell_type": "code",
      "metadata": {
        "id": "j6k_yT8KIZqC",
        "colab_type": "code",
        "colab": {
          "base_uri": "https://localhost:8080/",
          "height": 35
        },
        "outputId": "196bab42-03a6-4ade-d5b6-2021ea1b4509"
      },
      "source": [
        "chi2"
      ],
      "execution_count": null,
      "outputs": [
        {
          "output_type": "execute_result",
          "data": {
            "text/plain": [
              "0.07183824273421707"
            ]
          },
          "metadata": {
            "tags": []
          },
          "execution_count": 58
        }
      ]
    },
    {
      "cell_type": "code",
      "metadata": {
        "id": "O9ntjLUPIbMo",
        "colab_type": "code",
        "colab": {
          "base_uri": "https://localhost:8080/",
          "height": 35
        },
        "outputId": "b05b392c-35f8-471b-a6e7-7f3538ca98a3"
      },
      "source": [
        "p"
      ],
      "execution_count": null,
      "outputs": [
        {
          "output_type": "execute_result",
          "data": {
            "text/plain": [
              "0.7886788661023779"
            ]
          },
          "metadata": {
            "tags": []
          },
          "execution_count": 59
        }
      ]
    },
    {
      "cell_type": "markdown",
      "metadata": {
        "id": "k_4Dcls5IgMj",
        "colab_type": "text"
      },
      "source": [
        "From above, we can see that p value is higher than our significance level 0.05 so we can say that null hypothesis is not correct Hence there is no relationship between device type and signup method"
      ]
    },
    {
      "cell_type": "markdown",
      "metadata": {
        "id": "5R9ePtYTfxuw",
        "colab_type": "text"
      },
      "source": [
        "<h2> Country Statistics </h2>"
      ]
    },
    {
      "cell_type": "code",
      "metadata": {
        "id": "XKEpGJODIcVF",
        "colab_type": "code",
        "colab": {
          "base_uri": "https://localhost:8080/",
          "height": 415
        },
        "outputId": "a996d186-26dc-44d9-d7a1-bb1e3b7c600a"
      },
      "source": [
        "age_gen_df"
      ],
      "execution_count": null,
      "outputs": [
        {
          "output_type": "execute_result",
          "data": {
            "text/html": [
              "<div>\n",
              "<style scoped>\n",
              "    .dataframe tbody tr th:only-of-type {\n",
              "        vertical-align: middle;\n",
              "    }\n",
              "\n",
              "    .dataframe tbody tr th {\n",
              "        vertical-align: top;\n",
              "    }\n",
              "\n",
              "    .dataframe thead th {\n",
              "        text-align: right;\n",
              "    }\n",
              "</style>\n",
              "<table border=\"1\" class=\"dataframe\">\n",
              "  <thead>\n",
              "    <tr style=\"text-align: right;\">\n",
              "      <th></th>\n",
              "      <th>country_destination</th>\n",
              "      <th>gender</th>\n",
              "      <th>population_in_thousands</th>\n",
              "      <th>mean_age</th>\n",
              "    </tr>\n",
              "  </thead>\n",
              "  <tbody>\n",
              "    <tr>\n",
              "      <th>0</th>\n",
              "      <td>AU</td>\n",
              "      <td>0</td>\n",
              "      <td>1.0</td>\n",
              "      <td>102.0</td>\n",
              "    </tr>\n",
              "    <tr>\n",
              "      <th>1</th>\n",
              "      <td>AU</td>\n",
              "      <td>0</td>\n",
              "      <td>9.0</td>\n",
              "      <td>97.0</td>\n",
              "    </tr>\n",
              "    <tr>\n",
              "      <th>2</th>\n",
              "      <td>AU</td>\n",
              "      <td>0</td>\n",
              "      <td>47.0</td>\n",
              "      <td>92.0</td>\n",
              "    </tr>\n",
              "    <tr>\n",
              "      <th>3</th>\n",
              "      <td>AU</td>\n",
              "      <td>0</td>\n",
              "      <td>118.0</td>\n",
              "      <td>87.0</td>\n",
              "    </tr>\n",
              "    <tr>\n",
              "      <th>4</th>\n",
              "      <td>AU</td>\n",
              "      <td>0</td>\n",
              "      <td>199.0</td>\n",
              "      <td>82.0</td>\n",
              "    </tr>\n",
              "    <tr>\n",
              "      <th>...</th>\n",
              "      <td>...</td>\n",
              "      <td>...</td>\n",
              "      <td>...</td>\n",
              "      <td>...</td>\n",
              "    </tr>\n",
              "    <tr>\n",
              "      <th>415</th>\n",
              "      <td>US</td>\n",
              "      <td>0</td>\n",
              "      <td>115.0</td>\n",
              "      <td>97.0</td>\n",
              "    </tr>\n",
              "    <tr>\n",
              "      <th>416</th>\n",
              "      <td>US</td>\n",
              "      <td>0</td>\n",
              "      <td>541.0</td>\n",
              "      <td>92.0</td>\n",
              "    </tr>\n",
              "    <tr>\n",
              "      <th>417</th>\n",
              "      <td>US</td>\n",
              "      <td>1</td>\n",
              "      <td>10570.0</td>\n",
              "      <td>17.0</td>\n",
              "    </tr>\n",
              "    <tr>\n",
              "      <th>418</th>\n",
              "      <td>US</td>\n",
              "      <td>0</td>\n",
              "      <td>1441.0</td>\n",
              "      <td>87.0</td>\n",
              "    </tr>\n",
              "    <tr>\n",
              "      <th>419</th>\n",
              "      <td>US</td>\n",
              "      <td>0</td>\n",
              "      <td>2442.0</td>\n",
              "      <td>82.0</td>\n",
              "    </tr>\n",
              "  </tbody>\n",
              "</table>\n",
              "<p>420 rows × 4 columns</p>\n",
              "</div>"
            ],
            "text/plain": [
              "    country_destination  gender  population_in_thousands  mean_age\n",
              "0                    AU       0                      1.0     102.0\n",
              "1                    AU       0                      9.0      97.0\n",
              "2                    AU       0                     47.0      92.0\n",
              "3                    AU       0                    118.0      87.0\n",
              "4                    AU       0                    199.0      82.0\n",
              "..                  ...     ...                      ...       ...\n",
              "415                  US       0                    115.0      97.0\n",
              "416                  US       0                    541.0      92.0\n",
              "417                  US       1                  10570.0      17.0\n",
              "418                  US       0                   1441.0      87.0\n",
              "419                  US       0                   2442.0      82.0\n",
              "\n",
              "[420 rows x 4 columns]"
            ]
          },
          "metadata": {
            "tags": []
          },
          "execution_count": 60
        }
      ]
    },
    {
      "cell_type": "code",
      "metadata": {
        "id": "7yD-ScF2ZtKt",
        "colab_type": "code",
        "colab": {
          "base_uri": "https://localhost:8080/",
          "height": 515
        },
        "outputId": "5d6edcb4-fab2-4045-eec2-86a20de8c5a6"
      },
      "source": [
        "plt.figure(figsize=(20,8))\n",
        "sns.barplot(x='mean_age',y='population_in_thousands',hue='gender',data=age_gen_df,ci=None)"
      ],
      "execution_count": null,
      "outputs": [
        {
          "output_type": "execute_result",
          "data": {
            "text/plain": [
              "<matplotlib.axes._subplots.AxesSubplot at 0x7efc093836d8>"
            ]
          },
          "metadata": {
            "tags": []
          },
          "execution_count": 61
        },
        {
          "output_type": "display_data",
          "data": {
            "image/png": "[encoded data removed]",
            "text/plain": [
              "<Figure size 1440x576 with 1 Axes>"
            ]
          },
          "metadata": {
            "tags": [],
            "needs_background": "light"
          }
        }
      ]
    },
    {
      "cell_type": "markdown",
      "metadata": {
        "id": "OZsl-r5KhpUf",
        "colab_type": "text"
      },
      "source": [
        "Here 0 is male and 1 is female\n",
        "\n",
        "OBSERVATIONS:  \n",
        "--Largest group of people are traveling at the age >45 and < 60 age.  \n",
        "-- We can observe after 50 age population bucket gradually decreased  \n",
        "-- We can see upto 57 age Male population is more than Female but later female population is more than male as age increased.  \n",
        "-- We can observe Women lived longer than Men\n"
      ]
    },
    {
      "cell_type": "markdown",
      "metadata": {
        "id": "nlFs5OzDjw4D",
        "colab_type": "text"
      },
      "source": [
        "**Population count in each country**"
      ]
    },
    {
      "cell_type": "code",
      "metadata": {
        "id": "IaybIOasgI6l",
        "colab_type": "code",
        "colab": {
          "base_uri": "https://localhost:8080/",
          "height": 461
        },
        "outputId": "2368af30-b05a-472a-9175-2061ef813a6f"
      },
      "source": [
        "\n",
        "plt.figure(figsize=(10,7))\n",
        "pop=age_gen_df.groupby('country_destination')['population_in_thousands'].sum()\n",
        "sns.barplot(x=pop.index,y=pop,ci=None)"
      ],
      "execution_count": null,
      "outputs": [
        {
          "output_type": "execute_result",
          "data": {
            "text/plain": [
              "<matplotlib.axes._subplots.AxesSubplot at 0x7efc0725c128>"
            ]
          },
          "metadata": {
            "tags": []
          },
          "execution_count": 81
        },
        {
          "output_type": "display_data",
          "data": {
            "image/png": "[encoded data removed]",
            "text/plain": [
              "<Figure size 720x504 with 1 Axes>"
            ]
          },
          "metadata": {
            "tags": [],
            "needs_background": "light"
          }
        }
      ]
    },
    {
      "cell_type": "code",
      "metadata": {
        "id": "oueGjLfDhKVq",
        "colab_type": "code",
        "colab": {}
      },
      "source": [
        "\n"
      ],
      "execution_count": null,
      "outputs": []
    },
    {
      "cell_type": "code",
      "metadata": {
        "id": "FOOqLM_nhXdZ",
        "colab_type": "code",
        "colab": {}
      },
      "source": [
        ""
      ],
      "execution_count": null,
      "outputs": []
    }
  ]
}