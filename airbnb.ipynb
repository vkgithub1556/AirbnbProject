{
  "nbformat": 4,
  "nbformat_minor": 0,
  "metadata": {
    "colab": {
      "name": "airbnb.ipynb",
      "provenance": [],
      "collapsed_sections": [],
      "mount_file_id": "1CbAgHP2bZwA4CFDT6j54rYw3uE35xZpg",
      "authorship_tag": "ABX9TyM8UmU9PwwYaKen7dwTxlC8",
      "include_colab_link": true
    },
    "kernelspec": {
      "name": "python3",
      "display_name": "Python 3"
    }
  },
  "cells": [
    {
      "cell_type": "markdown",
      "metadata": {
        "id": "view-in-github",
        "colab_type": "text"
      },
      "source": [
        "<a href=\"https://colab.research.google.com/github/vkgithub1556/AirbnbProject/blob/master/airbnb.ipynb\" target=\"_parent\"><img src=\"https://colab.research.google.com/assets/colab-badge.svg\" alt=\"Open In Colab\"/></a>"
      ]
    },
    {
      "cell_type": "code",
      "metadata": {
        "id": "gpxYqhN0Kfko",
        "colab_type": "code",
        "colab": {}
      },
      "source": [
        "import pandas as pd\n",
        "import seaborn as sns\n",
        "import matplotlib.pyplot as plt\n",
        "import numpy as np"
      ],
      "execution_count": null,
      "outputs": []
    },
    {
      "cell_type": "code",
      "metadata": {
        "id": "cNv7PSTQJaXl",
        "colab_type": "code",
        "colab": {
          "base_uri": "https://localhost:8080/",
          "height": 202
        },
        "outputId": "883d0d74-78a6-4896-a176-92d1bff6502a"
      },
      "source": [
        "age_gen_df = pd.read_csv(\"/content/drive/My Drive/Data/airbnb/age_gender_bkts.csv\")\n",
        "age_gen_df.head()"
      ],
      "execution_count": null,
      "outputs": [
        {
          "output_type": "execute_result",
          "data": {
            "text/html": [
              "<div>\n",
              "<style scoped>\n",
              "    .dataframe tbody tr th:only-of-type {\n",
              "        vertical-align: middle;\n",
              "    }\n",
              "\n",
              "    .dataframe tbody tr th {\n",
              "        vertical-align: top;\n",
              "    }\n",
              "\n",
              "    .dataframe thead th {\n",
              "        text-align: right;\n",
              "    }\n",
              "</style>\n",
              "<table border=\"1\" class=\"dataframe\">\n",
              "  <thead>\n",
              "    <tr style=\"text-align: right;\">\n",
              "      <th></th>\n",
              "      <th>age_bucket</th>\n",
              "      <th>country_destination</th>\n",
              "      <th>gender</th>\n",
              "      <th>population_in_thousands</th>\n",
              "      <th>year</th>\n",
              "    </tr>\n",
              "  </thead>\n",
              "  <tbody>\n",
              "    <tr>\n",
              "      <th>0</th>\n",
              "      <td>100+</td>\n",
              "      <td>AU</td>\n",
              "      <td>male</td>\n",
              "      <td>1.0</td>\n",
              "      <td>2015.0</td>\n",
              "    </tr>\n",
              "    <tr>\n",
              "      <th>1</th>\n",
              "      <td>95-99</td>\n",
              "      <td>AU</td>\n",
              "      <td>male</td>\n",
              "      <td>9.0</td>\n",
              "      <td>2015.0</td>\n",
              "    </tr>\n",
              "    <tr>\n",
              "      <th>2</th>\n",
              "      <td>90-94</td>\n",
              "      <td>AU</td>\n",
              "      <td>male</td>\n",
              "      <td>47.0</td>\n",
              "      <td>2015.0</td>\n",
              "    </tr>\n",
              "    <tr>\n",
              "      <th>3</th>\n",
              "      <td>85-89</td>\n",
              "      <td>AU</td>\n",
              "      <td>male</td>\n",
              "      <td>118.0</td>\n",
              "      <td>2015.0</td>\n",
              "    </tr>\n",
              "    <tr>\n",
              "      <th>4</th>\n",
              "      <td>80-84</td>\n",
              "      <td>AU</td>\n",
              "      <td>male</td>\n",
              "      <td>199.0</td>\n",
              "      <td>2015.0</td>\n",
              "    </tr>\n",
              "  </tbody>\n",
              "</table>\n",
              "</div>"
            ],
            "text/plain": [
              "  age_bucket country_destination gender  population_in_thousands    year\n",
              "0       100+                  AU   male                      1.0  2015.0\n",
              "1      95-99                  AU   male                      9.0  2015.0\n",
              "2      90-94                  AU   male                     47.0  2015.0\n",
              "3      85-89                  AU   male                    118.0  2015.0\n",
              "4      80-84                  AU   male                    199.0  2015.0"
            ]
          },
          "metadata": {
            "tags": []
          },
          "execution_count": 2
        }
      ]
    },
    {
      "cell_type": "code",
      "metadata": {
        "id": "JwVCxNsdKnH6",
        "colab_type": "code",
        "colab": {
          "base_uri": "https://localhost:8080/",
          "height": 225
        },
        "outputId": "2168f18e-bdff-4358-a08e-99b2e016b65d"
      },
      "source": [
        "age_gen_df.info()"
      ],
      "execution_count": null,
      "outputs": [
        {
          "output_type": "stream",
          "text": [
            "<class 'pandas.core.frame.DataFrame'>\n",
            "RangeIndex: 420 entries, 0 to 419\n",
            "Data columns (total 5 columns):\n",
            " #   Column                   Non-Null Count  Dtype  \n",
            "---  ------                   --------------  -----  \n",
            " 0   age_bucket               420 non-null    object \n",
            " 1   country_destination      420 non-null    object \n",
            " 2   gender                   420 non-null    object \n",
            " 3   population_in_thousands  420 non-null    float64\n",
            " 4   year                     420 non-null    float64\n",
            "dtypes: float64(2), object(3)\n",
            "memory usage: 16.5+ KB\n"
          ],
          "name": "stdout"
        }
      ]
    },
    {
      "cell_type": "markdown",
      "metadata": {
        "id": "FC5NcH_2L3Oe",
        "colab_type": "text"
      },
      "source": [
        "FInding average of each age group and adding as another column"
      ]
    },
    {
      "cell_type": "code",
      "metadata": {
        "id": "mjlznrwiK2Mu",
        "colab_type": "code",
        "colab": {}
      },
      "source": [
        "age_gen_df['age_bucket']=age_gen_df['age_bucket'].apply(lambda x: '100-104' if x == '100+' else x)\n",
        "age_gen_df['mean_age']=age_gen_df['age_bucket'].apply(lambda x: (int(x.split('-')[0])+int(x.split('-')[1]))/2)"
      ],
      "execution_count": null,
      "outputs": []
    },
    {
      "cell_type": "code",
      "metadata": {
        "id": "n00jwVkTWBiI",
        "colab_type": "code",
        "colab": {}
      },
      "source": [
        "age_gen_df=age_gen_df.drop({'age_bucket','year'},axis=1)"
      ],
      "execution_count": null,
      "outputs": []
    },
    {
      "cell_type": "code",
      "metadata": {
        "id": "67me1uk1Wqq_",
        "colab_type": "code",
        "colab": {
          "base_uri": "https://localhost:8080/",
          "height": 415
        },
        "outputId": "8690abda-1327-44db-df97-75f6a20a58d3"
      },
      "source": [
        "age_gen_df"
      ],
      "execution_count": null,
      "outputs": [
        {
          "output_type": "execute_result",
          "data": {
            "text/html": [
              "<div>\n",
              "<style scoped>\n",
              "    .dataframe tbody tr th:only-of-type {\n",
              "        vertical-align: middle;\n",
              "    }\n",
              "\n",
              "    .dataframe tbody tr th {\n",
              "        vertical-align: top;\n",
              "    }\n",
              "\n",
              "    .dataframe thead th {\n",
              "        text-align: right;\n",
              "    }\n",
              "</style>\n",
              "<table border=\"1\" class=\"dataframe\">\n",
              "  <thead>\n",
              "    <tr style=\"text-align: right;\">\n",
              "      <th></th>\n",
              "      <th>country_destination</th>\n",
              "      <th>gender</th>\n",
              "      <th>population_in_thousands</th>\n",
              "      <th>mean_age</th>\n",
              "    </tr>\n",
              "  </thead>\n",
              "  <tbody>\n",
              "    <tr>\n",
              "      <th>0</th>\n",
              "      <td>AU</td>\n",
              "      <td>male</td>\n",
              "      <td>1.0</td>\n",
              "      <td>102.0</td>\n",
              "    </tr>\n",
              "    <tr>\n",
              "      <th>1</th>\n",
              "      <td>AU</td>\n",
              "      <td>male</td>\n",
              "      <td>9.0</td>\n",
              "      <td>97.0</td>\n",
              "    </tr>\n",
              "    <tr>\n",
              "      <th>2</th>\n",
              "      <td>AU</td>\n",
              "      <td>male</td>\n",
              "      <td>47.0</td>\n",
              "      <td>92.0</td>\n",
              "    </tr>\n",
              "    <tr>\n",
              "      <th>3</th>\n",
              "      <td>AU</td>\n",
              "      <td>male</td>\n",
              "      <td>118.0</td>\n",
              "      <td>87.0</td>\n",
              "    </tr>\n",
              "    <tr>\n",
              "      <th>4</th>\n",
              "      <td>AU</td>\n",
              "      <td>male</td>\n",
              "      <td>199.0</td>\n",
              "      <td>82.0</td>\n",
              "    </tr>\n",
              "    <tr>\n",
              "      <th>...</th>\n",
              "      <td>...</td>\n",
              "      <td>...</td>\n",
              "      <td>...</td>\n",
              "      <td>...</td>\n",
              "    </tr>\n",
              "    <tr>\n",
              "      <th>415</th>\n",
              "      <td>US</td>\n",
              "      <td>male</td>\n",
              "      <td>115.0</td>\n",
              "      <td>97.0</td>\n",
              "    </tr>\n",
              "    <tr>\n",
              "      <th>416</th>\n",
              "      <td>US</td>\n",
              "      <td>male</td>\n",
              "      <td>541.0</td>\n",
              "      <td>92.0</td>\n",
              "    </tr>\n",
              "    <tr>\n",
              "      <th>417</th>\n",
              "      <td>US</td>\n",
              "      <td>female</td>\n",
              "      <td>10570.0</td>\n",
              "      <td>17.0</td>\n",
              "    </tr>\n",
              "    <tr>\n",
              "      <th>418</th>\n",
              "      <td>US</td>\n",
              "      <td>male</td>\n",
              "      <td>1441.0</td>\n",
              "      <td>87.0</td>\n",
              "    </tr>\n",
              "    <tr>\n",
              "      <th>419</th>\n",
              "      <td>US</td>\n",
              "      <td>male</td>\n",
              "      <td>2442.0</td>\n",
              "      <td>82.0</td>\n",
              "    </tr>\n",
              "  </tbody>\n",
              "</table>\n",
              "<p>420 rows × 4 columns</p>\n",
              "</div>"
            ],
            "text/plain": [
              "    country_destination  gender  population_in_thousands  mean_age\n",
              "0                    AU    male                      1.0     102.0\n",
              "1                    AU    male                      9.0      97.0\n",
              "2                    AU    male                     47.0      92.0\n",
              "3                    AU    male                    118.0      87.0\n",
              "4                    AU    male                    199.0      82.0\n",
              "..                  ...     ...                      ...       ...\n",
              "415                  US    male                    115.0      97.0\n",
              "416                  US    male                    541.0      92.0\n",
              "417                  US  female                  10570.0      17.0\n",
              "418                  US    male                   1441.0      87.0\n",
              "419                  US    male                   2442.0      82.0\n",
              "\n",
              "[420 rows x 4 columns]"
            ]
          },
          "metadata": {
            "tags": []
          },
          "execution_count": 6
        }
      ]
    },
    {
      "cell_type": "markdown",
      "metadata": {
        "id": "1oIPtzxAHVL8",
        "colab_type": "text"
      },
      "source": [
        "List of all destination countries and their counts"
      ]
    },
    {
      "cell_type": "code",
      "metadata": {
        "id": "HyxtM5q5W9nG",
        "colab_type": "code",
        "colab": {
          "base_uri": "https://localhost:8080/",
          "height": 208
        },
        "outputId": "65a29d58-03a1-480b-f362-1e0e8a37c746"
      },
      "source": [
        "list(age_gen_df['country_destination'].unique())\n",
        "age_gen_df['country_destination'].value_counts()"
      ],
      "execution_count": null,
      "outputs": [
        {
          "output_type": "execute_result",
          "data": {
            "text/plain": [
              "NL    42\n",
              "FR    42\n",
              "PT    42\n",
              "CA    42\n",
              "US    42\n",
              "ES    42\n",
              "DE    42\n",
              "AU    42\n",
              "IT    42\n",
              "GB    42\n",
              "Name: country_destination, dtype: int64"
            ]
          },
          "metadata": {
            "tags": []
          },
          "execution_count": 7
        }
      ]
    },
    {
      "cell_type": "code",
      "metadata": {
        "id": "JZs0EV-tHJVW",
        "colab_type": "code",
        "colab": {
          "base_uri": "https://localhost:8080/",
          "height": 69
        },
        "outputId": "90d8ae4f-e6d2-4958-ce8d-e6c85ddcc33e"
      },
      "source": [
        "age_gen_df['gender'].value_counts()"
      ],
      "execution_count": null,
      "outputs": [
        {
          "output_type": "execute_result",
          "data": {
            "text/plain": [
              "female    210\n",
              "male      210\n",
              "Name: gender, dtype: int64"
            ]
          },
          "metadata": {
            "tags": []
          },
          "execution_count": 8
        }
      ]
    },
    {
      "cell_type": "markdown",
      "metadata": {
        "id": "wSadXaFRP5GC",
        "colab_type": "text"
      },
      "source": [
        "making gender values as gategorical values replacinf male with 0 and female with 1"
      ]
    },
    {
      "cell_type": "code",
      "metadata": {
        "id": "sEtRdnhZHfTR",
        "colab_type": "code",
        "colab": {
          "base_uri": "https://localhost:8080/",
          "height": 69
        },
        "outputId": "0c827bff-62e3-4962-d4ec-5658ed00b621"
      },
      "source": [
        "age_gen_df['gender']=age_gen_df['gender'].apply(lambda x:0 if x =='male' else 1)\n",
        "age_gen_df['gender'].value_counts()"
      ],
      "execution_count": null,
      "outputs": [
        {
          "output_type": "execute_result",
          "data": {
            "text/plain": [
              "1    210\n",
              "0    210\n",
              "Name: gender, dtype: int64"
            ]
          },
          "metadata": {
            "tags": []
          },
          "execution_count": 9
        }
      ]
    },
    {
      "cell_type": "markdown",
      "metadata": {
        "id": "3po5J119QeNC",
        "colab_type": "text"
      },
      "source": [
        "Reading countries data"
      ]
    },
    {
      "cell_type": "code",
      "metadata": {
        "id": "5_RgvRTQP-F_",
        "colab_type": "code",
        "colab": {}
      },
      "source": [
        "countries = pd.read_csv('/content/drive/My Drive/Data/airbnb/countries.csv')"
      ],
      "execution_count": null,
      "outputs": []
    },
    {
      "cell_type": "code",
      "metadata": {
        "id": "luUEz6PhQOV2",
        "colab_type": "code",
        "colab": {
          "base_uri": "https://localhost:8080/",
          "height": 355
        },
        "outputId": "9ed15905-c953-4a63-a679-d9267557eed7"
      },
      "source": [
        "countries.head(20)"
      ],
      "execution_count": null,
      "outputs": [
        {
          "output_type": "execute_result",
          "data": {
            "text/html": [
              "<div>\n",
              "<style scoped>\n",
              "    .dataframe tbody tr th:only-of-type {\n",
              "        vertical-align: middle;\n",
              "    }\n",
              "\n",
              "    .dataframe tbody tr th {\n",
              "        vertical-align: top;\n",
              "    }\n",
              "\n",
              "    .dataframe thead th {\n",
              "        text-align: right;\n",
              "    }\n",
              "</style>\n",
              "<table border=\"1\" class=\"dataframe\">\n",
              "  <thead>\n",
              "    <tr style=\"text-align: right;\">\n",
              "      <th></th>\n",
              "      <th>country_destination</th>\n",
              "      <th>lat_destination</th>\n",
              "      <th>lng_destination</th>\n",
              "      <th>distance_km</th>\n",
              "      <th>destination_km2</th>\n",
              "      <th>destination_language</th>\n",
              "      <th>language_levenshtein_distance</th>\n",
              "    </tr>\n",
              "  </thead>\n",
              "  <tbody>\n",
              "    <tr>\n",
              "      <th>0</th>\n",
              "      <td>AU</td>\n",
              "      <td>-26.853388</td>\n",
              "      <td>133.275160</td>\n",
              "      <td>15297.7440</td>\n",
              "      <td>7741220.0</td>\n",
              "      <td>eng</td>\n",
              "      <td>0.00</td>\n",
              "    </tr>\n",
              "    <tr>\n",
              "      <th>1</th>\n",
              "      <td>CA</td>\n",
              "      <td>62.393303</td>\n",
              "      <td>-96.818146</td>\n",
              "      <td>2828.1333</td>\n",
              "      <td>9984670.0</td>\n",
              "      <td>eng</td>\n",
              "      <td>0.00</td>\n",
              "    </tr>\n",
              "    <tr>\n",
              "      <th>2</th>\n",
              "      <td>DE</td>\n",
              "      <td>51.165707</td>\n",
              "      <td>10.452764</td>\n",
              "      <td>7879.5680</td>\n",
              "      <td>357022.0</td>\n",
              "      <td>deu</td>\n",
              "      <td>72.61</td>\n",
              "    </tr>\n",
              "    <tr>\n",
              "      <th>3</th>\n",
              "      <td>ES</td>\n",
              "      <td>39.896027</td>\n",
              "      <td>-2.487694</td>\n",
              "      <td>7730.7240</td>\n",
              "      <td>505370.0</td>\n",
              "      <td>spa</td>\n",
              "      <td>92.25</td>\n",
              "    </tr>\n",
              "    <tr>\n",
              "      <th>4</th>\n",
              "      <td>FR</td>\n",
              "      <td>46.232193</td>\n",
              "      <td>2.209667</td>\n",
              "      <td>7682.9450</td>\n",
              "      <td>643801.0</td>\n",
              "      <td>fra</td>\n",
              "      <td>92.06</td>\n",
              "    </tr>\n",
              "    <tr>\n",
              "      <th>5</th>\n",
              "      <td>GB</td>\n",
              "      <td>54.633220</td>\n",
              "      <td>-3.432277</td>\n",
              "      <td>6883.6590</td>\n",
              "      <td>243610.0</td>\n",
              "      <td>eng</td>\n",
              "      <td>0.00</td>\n",
              "    </tr>\n",
              "    <tr>\n",
              "      <th>6</th>\n",
              "      <td>IT</td>\n",
              "      <td>41.873990</td>\n",
              "      <td>12.564167</td>\n",
              "      <td>8636.6310</td>\n",
              "      <td>301340.0</td>\n",
              "      <td>ita</td>\n",
              "      <td>89.40</td>\n",
              "    </tr>\n",
              "    <tr>\n",
              "      <th>7</th>\n",
              "      <td>NL</td>\n",
              "      <td>52.133057</td>\n",
              "      <td>5.295250</td>\n",
              "      <td>7524.3203</td>\n",
              "      <td>41543.0</td>\n",
              "      <td>nld</td>\n",
              "      <td>63.22</td>\n",
              "    </tr>\n",
              "    <tr>\n",
              "      <th>8</th>\n",
              "      <td>PT</td>\n",
              "      <td>39.553444</td>\n",
              "      <td>-7.839319</td>\n",
              "      <td>7355.2534</td>\n",
              "      <td>92090.0</td>\n",
              "      <td>por</td>\n",
              "      <td>95.45</td>\n",
              "    </tr>\n",
              "    <tr>\n",
              "      <th>9</th>\n",
              "      <td>US</td>\n",
              "      <td>36.966427</td>\n",
              "      <td>-95.844030</td>\n",
              "      <td>0.0000</td>\n",
              "      <td>9826675.0</td>\n",
              "      <td>eng</td>\n",
              "      <td>0.00</td>\n",
              "    </tr>\n",
              "  </tbody>\n",
              "</table>\n",
              "</div>"
            ],
            "text/plain": [
              "  country_destination  ...  language_levenshtein_distance\n",
              "0                  AU  ...                           0.00\n",
              "1                  CA  ...                           0.00\n",
              "2                  DE  ...                          72.61\n",
              "3                  ES  ...                          92.25\n",
              "4                  FR  ...                          92.06\n",
              "5                  GB  ...                           0.00\n",
              "6                  IT  ...                          89.40\n",
              "7                  NL  ...                          63.22\n",
              "8                  PT  ...                          95.45\n",
              "9                  US  ...                           0.00\n",
              "\n",
              "[10 rows x 7 columns]"
            ]
          },
          "metadata": {
            "tags": []
          },
          "execution_count": 11
        }
      ]
    },
    {
      "cell_type": "markdown",
      "metadata": {
        "id": "ZvOPOhU-QhHN",
        "colab_type": "text"
      },
      "source": [
        "Reading sessions data"
      ]
    },
    {
      "cell_type": "code",
      "metadata": {
        "id": "KjtiMlkpQQik",
        "colab_type": "code",
        "colab": {}
      },
      "source": [
        "sessions=pd.read_csv('/content/drive/My Drive/Data/airbnb/sessions.csv')"
      ],
      "execution_count": null,
      "outputs": []
    },
    {
      "cell_type": "code",
      "metadata": {
        "id": "oa4Zx1Q1QngR",
        "colab_type": "code",
        "colab": {
          "base_uri": "https://localhost:8080/",
          "height": 202
        },
        "outputId": "36e8444d-6310-42de-d36b-ab433efe4a8c"
      },
      "source": [
        "sessions.head()"
      ],
      "execution_count": null,
      "outputs": [
        {
          "output_type": "execute_result",
          "data": {
            "text/html": [
              "<div>\n",
              "<style scoped>\n",
              "    .dataframe tbody tr th:only-of-type {\n",
              "        vertical-align: middle;\n",
              "    }\n",
              "\n",
              "    .dataframe tbody tr th {\n",
              "        vertical-align: top;\n",
              "    }\n",
              "\n",
              "    .dataframe thead th {\n",
              "        text-align: right;\n",
              "    }\n",
              "</style>\n",
              "<table border=\"1\" class=\"dataframe\">\n",
              "  <thead>\n",
              "    <tr style=\"text-align: right;\">\n",
              "      <th></th>\n",
              "      <th>user_id</th>\n",
              "      <th>action</th>\n",
              "      <th>action_type</th>\n",
              "      <th>action_detail</th>\n",
              "      <th>device_type</th>\n",
              "      <th>secs_elapsed</th>\n",
              "    </tr>\n",
              "  </thead>\n",
              "  <tbody>\n",
              "    <tr>\n",
              "      <th>0</th>\n",
              "      <td>d1mm9tcy42</td>\n",
              "      <td>lookup</td>\n",
              "      <td>NaN</td>\n",
              "      <td>NaN</td>\n",
              "      <td>Windows Desktop</td>\n",
              "      <td>319.0</td>\n",
              "    </tr>\n",
              "    <tr>\n",
              "      <th>1</th>\n",
              "      <td>d1mm9tcy42</td>\n",
              "      <td>search_results</td>\n",
              "      <td>click</td>\n",
              "      <td>view_search_results</td>\n",
              "      <td>Windows Desktop</td>\n",
              "      <td>67753.0</td>\n",
              "    </tr>\n",
              "    <tr>\n",
              "      <th>2</th>\n",
              "      <td>d1mm9tcy42</td>\n",
              "      <td>lookup</td>\n",
              "      <td>NaN</td>\n",
              "      <td>NaN</td>\n",
              "      <td>Windows Desktop</td>\n",
              "      <td>301.0</td>\n",
              "    </tr>\n",
              "    <tr>\n",
              "      <th>3</th>\n",
              "      <td>d1mm9tcy42</td>\n",
              "      <td>search_results</td>\n",
              "      <td>click</td>\n",
              "      <td>view_search_results</td>\n",
              "      <td>Windows Desktop</td>\n",
              "      <td>22141.0</td>\n",
              "    </tr>\n",
              "    <tr>\n",
              "      <th>4</th>\n",
              "      <td>d1mm9tcy42</td>\n",
              "      <td>lookup</td>\n",
              "      <td>NaN</td>\n",
              "      <td>NaN</td>\n",
              "      <td>Windows Desktop</td>\n",
              "      <td>435.0</td>\n",
              "    </tr>\n",
              "  </tbody>\n",
              "</table>\n",
              "</div>"
            ],
            "text/plain": [
              "      user_id          action  ...      device_type secs_elapsed\n",
              "0  d1mm9tcy42          lookup  ...  Windows Desktop        319.0\n",
              "1  d1mm9tcy42  search_results  ...  Windows Desktop      67753.0\n",
              "2  d1mm9tcy42          lookup  ...  Windows Desktop        301.0\n",
              "3  d1mm9tcy42  search_results  ...  Windows Desktop      22141.0\n",
              "4  d1mm9tcy42          lookup  ...  Windows Desktop        435.0\n",
              "\n",
              "[5 rows x 6 columns]"
            ]
          },
          "metadata": {
            "tags": []
          },
          "execution_count": 13
        }
      ]
    },
    {
      "cell_type": "code",
      "metadata": {
        "id": "b8dl5J1OQs0w",
        "colab_type": "code",
        "colab": {
          "base_uri": "https://localhost:8080/",
          "height": 35
        },
        "outputId": "b2e087bc-5a3e-4150-8902-dce2f5bb2c86"
      },
      "source": [
        "sessions.shape"
      ],
      "execution_count": null,
      "outputs": [
        {
          "output_type": "execute_result",
          "data": {
            "text/plain": [
              "(10567737, 6)"
            ]
          },
          "metadata": {
            "tags": []
          },
          "execution_count": 14
        }
      ]
    },
    {
      "cell_type": "code",
      "metadata": {
        "id": "gkR8sJLolZsD",
        "colab_type": "code",
        "colab": {
          "base_uri": "https://localhost:8080/",
          "height": 309
        },
        "outputId": "3d8e1a34-68aa-4d18-f08a-3191014ae297"
      },
      "source": [
        "sns.distplot(sessions[sessions['secs_elapsed'].notnull()]['secs_elapsed'])"
      ],
      "execution_count": null,
      "outputs": [
        {
          "output_type": "execute_result",
          "data": {
            "text/plain": [
              "<matplotlib.axes._subplots.AxesSubplot at 0x7f2221b68898>"
            ]
          },
          "metadata": {
            "tags": []
          },
          "execution_count": 15
        },
        {
          "output_type": "display_data",
          "data": {
            "image/png": "[encoded data removed]",
            "text/plain": [
              "<Figure size 432x288 with 1 Axes>"
            ]
          },
          "metadata": {
            "tags": [],
            "needs_background": "light"
          }
        }
      ]
    },
    {
      "cell_type": "code",
      "metadata": {
        "id": "VSWAePXDUGKb",
        "colab_type": "code",
        "colab": {
          "base_uri": "https://localhost:8080/",
          "height": 173
        },
        "outputId": "6e4848d2-51d5-4053-85ed-e08d3aca6042"
      },
      "source": [
        "sessions['secs_elapsed'].describe()"
      ],
      "execution_count": null,
      "outputs": [
        {
          "output_type": "execute_result",
          "data": {
            "text/plain": [
              "count    1.043171e+07\n",
              "mean     1.940581e+04\n",
              "std      8.888424e+04\n",
              "min      0.000000e+00\n",
              "25%      2.290000e+02\n",
              "50%      1.147000e+03\n",
              "75%      8.444000e+03\n",
              "max      1.799977e+06\n",
              "Name: secs_elapsed, dtype: float64"
            ]
          },
          "metadata": {
            "tags": []
          },
          "execution_count": 16
        }
      ]
    },
    {
      "cell_type": "code",
      "metadata": {
        "id": "jOrRVVKKTgDg",
        "colab_type": "code",
        "colab": {
          "base_uri": "https://localhost:8080/",
          "height": 35
        },
        "outputId": "cefcb2be-3775-4ed0-b77f-de5075aa3805"
      },
      "source": [
        "len(sessions[sessions['secs_elapsed'].isnull()])"
      ],
      "execution_count": null,
      "outputs": [
        {
          "output_type": "execute_result",
          "data": {
            "text/plain": [
              "136031"
            ]
          },
          "metadata": {
            "tags": []
          },
          "execution_count": 17
        }
      ]
    },
    {
      "cell_type": "code",
      "metadata": {
        "id": "8xyoSOO5T-xk",
        "colab_type": "code",
        "colab": {}
      },
      "source": [
        "median_session=sessions['secs_elapsed'].median()"
      ],
      "execution_count": null,
      "outputs": []
    },
    {
      "cell_type": "code",
      "metadata": {
        "id": "6H9vbAz9UNrq",
        "colab_type": "code",
        "colab": {}
      },
      "source": [
        "sessions['secs_elapsed']=sessions['secs_elapsed'].fillna(median_session)"
      ],
      "execution_count": null,
      "outputs": []
    },
    {
      "cell_type": "code",
      "metadata": {
        "id": "8XtCSzJ6UcYz",
        "colab_type": "code",
        "colab": {
          "base_uri": "https://localhost:8080/",
          "height": 173
        },
        "outputId": "a7f353d8-f293-4945-b15b-5d26e2f96fcf"
      },
      "source": [
        "sessions['secs_elapsed'].describe()"
      ],
      "execution_count": null,
      "outputs": [
        {
          "output_type": "execute_result",
          "data": {
            "text/plain": [
              "count    1.056774e+07\n",
              "mean     1.917078e+04\n",
              "std      8.833430e+04\n",
              "min      0.000000e+00\n",
              "25%      2.370000e+02\n",
              "50%      1.147000e+03\n",
              "75%      8.193000e+03\n",
              "max      1.799977e+06\n",
              "Name: secs_elapsed, dtype: float64"
            ]
          },
          "metadata": {
            "tags": []
          },
          "execution_count": 20
        }
      ]
    },
    {
      "cell_type": "markdown",
      "metadata": {
        "id": "SYXY8_1SUr6b",
        "colab_type": "text"
      },
      "source": [
        "As can be seen above, the interpolation has not significantly altered the summary statistics of the distribution. This is a good option for filling in the null values for the time being.\n",
        "\n"
      ]
    },
    {
      "cell_type": "markdown",
      "metadata": {
        "id": "iz-lVjovU0Ve",
        "colab_type": "text"
      },
      "source": [
        "Let us check sessions which donot have any actions"
      ]
    },
    {
      "cell_type": "code",
      "metadata": {
        "id": "IEXzriBYUhA6",
        "colab_type": "code",
        "colab": {
          "base_uri": "https://localhost:8080/",
          "height": 202
        },
        "outputId": "916b9333-6b54-48ed-ee6d-80d91dd73730"
      },
      "source": [
        "sessions.head()"
      ],
      "execution_count": null,
      "outputs": [
        {
          "output_type": "execute_result",
          "data": {
            "text/html": [
              "<div>\n",
              "<style scoped>\n",
              "    .dataframe tbody tr th:only-of-type {\n",
              "        vertical-align: middle;\n",
              "    }\n",
              "\n",
              "    .dataframe tbody tr th {\n",
              "        vertical-align: top;\n",
              "    }\n",
              "\n",
              "    .dataframe thead th {\n",
              "        text-align: right;\n",
              "    }\n",
              "</style>\n",
              "<table border=\"1\" class=\"dataframe\">\n",
              "  <thead>\n",
              "    <tr style=\"text-align: right;\">\n",
              "      <th></th>\n",
              "      <th>user_id</th>\n",
              "      <th>action</th>\n",
              "      <th>action_type</th>\n",
              "      <th>action_detail</th>\n",
              "      <th>device_type</th>\n",
              "      <th>secs_elapsed</th>\n",
              "    </tr>\n",
              "  </thead>\n",
              "  <tbody>\n",
              "    <tr>\n",
              "      <th>0</th>\n",
              "      <td>d1mm9tcy42</td>\n",
              "      <td>lookup</td>\n",
              "      <td>NaN</td>\n",
              "      <td>NaN</td>\n",
              "      <td>Windows Desktop</td>\n",
              "      <td>319.0</td>\n",
              "    </tr>\n",
              "    <tr>\n",
              "      <th>1</th>\n",
              "      <td>d1mm9tcy42</td>\n",
              "      <td>search_results</td>\n",
              "      <td>click</td>\n",
              "      <td>view_search_results</td>\n",
              "      <td>Windows Desktop</td>\n",
              "      <td>67753.0</td>\n",
              "    </tr>\n",
              "    <tr>\n",
              "      <th>2</th>\n",
              "      <td>d1mm9tcy42</td>\n",
              "      <td>lookup</td>\n",
              "      <td>NaN</td>\n",
              "      <td>NaN</td>\n",
              "      <td>Windows Desktop</td>\n",
              "      <td>301.0</td>\n",
              "    </tr>\n",
              "    <tr>\n",
              "      <th>3</th>\n",
              "      <td>d1mm9tcy42</td>\n",
              "      <td>search_results</td>\n",
              "      <td>click</td>\n",
              "      <td>view_search_results</td>\n",
              "      <td>Windows Desktop</td>\n",
              "      <td>22141.0</td>\n",
              "    </tr>\n",
              "    <tr>\n",
              "      <th>4</th>\n",
              "      <td>d1mm9tcy42</td>\n",
              "      <td>lookup</td>\n",
              "      <td>NaN</td>\n",
              "      <td>NaN</td>\n",
              "      <td>Windows Desktop</td>\n",
              "      <td>435.0</td>\n",
              "    </tr>\n",
              "  </tbody>\n",
              "</table>\n",
              "</div>"
            ],
            "text/plain": [
              "      user_id          action  ...      device_type secs_elapsed\n",
              "0  d1mm9tcy42          lookup  ...  Windows Desktop        319.0\n",
              "1  d1mm9tcy42  search_results  ...  Windows Desktop      67753.0\n",
              "2  d1mm9tcy42          lookup  ...  Windows Desktop        301.0\n",
              "3  d1mm9tcy42  search_results  ...  Windows Desktop      22141.0\n",
              "4  d1mm9tcy42          lookup  ...  Windows Desktop        435.0\n",
              "\n",
              "[5 rows x 6 columns]"
            ]
          },
          "metadata": {
            "tags": []
          },
          "execution_count": 21
        }
      ]
    },
    {
      "cell_type": "code",
      "metadata": {
        "id": "gkhoJPegU880",
        "colab_type": "code",
        "colab": {}
      },
      "source": [
        "no_action=sessions[(sessions['action'].isnull())|(sessions['action_detail'].isnull())|(sessions['action_type'].isnull())]"
      ],
      "execution_count": null,
      "outputs": []
    },
    {
      "cell_type": "code",
      "metadata": {
        "id": "8xkhGG06VOBE",
        "colab_type": "code",
        "colab": {
          "base_uri": "https://localhost:8080/",
          "height": 202
        },
        "outputId": "2ecafd9a-bb97-4a61-dc0d-d298d56e0aaa"
      },
      "source": [
        "no_action.head()"
      ],
      "execution_count": null,
      "outputs": [
        {
          "output_type": "execute_result",
          "data": {
            "text/html": [
              "<div>\n",
              "<style scoped>\n",
              "    .dataframe tbody tr th:only-of-type {\n",
              "        vertical-align: middle;\n",
              "    }\n",
              "\n",
              "    .dataframe tbody tr th {\n",
              "        vertical-align: top;\n",
              "    }\n",
              "\n",
              "    .dataframe thead th {\n",
              "        text-align: right;\n",
              "    }\n",
              "</style>\n",
              "<table border=\"1\" class=\"dataframe\">\n",
              "  <thead>\n",
              "    <tr style=\"text-align: right;\">\n",
              "      <th></th>\n",
              "      <th>user_id</th>\n",
              "      <th>action</th>\n",
              "      <th>action_type</th>\n",
              "      <th>action_detail</th>\n",
              "      <th>device_type</th>\n",
              "      <th>secs_elapsed</th>\n",
              "    </tr>\n",
              "  </thead>\n",
              "  <tbody>\n",
              "    <tr>\n",
              "      <th>0</th>\n",
              "      <td>d1mm9tcy42</td>\n",
              "      <td>lookup</td>\n",
              "      <td>NaN</td>\n",
              "      <td>NaN</td>\n",
              "      <td>Windows Desktop</td>\n",
              "      <td>319.0</td>\n",
              "    </tr>\n",
              "    <tr>\n",
              "      <th>2</th>\n",
              "      <td>d1mm9tcy42</td>\n",
              "      <td>lookup</td>\n",
              "      <td>NaN</td>\n",
              "      <td>NaN</td>\n",
              "      <td>Windows Desktop</td>\n",
              "      <td>301.0</td>\n",
              "    </tr>\n",
              "    <tr>\n",
              "      <th>4</th>\n",
              "      <td>d1mm9tcy42</td>\n",
              "      <td>lookup</td>\n",
              "      <td>NaN</td>\n",
              "      <td>NaN</td>\n",
              "      <td>Windows Desktop</td>\n",
              "      <td>435.0</td>\n",
              "    </tr>\n",
              "    <tr>\n",
              "      <th>6</th>\n",
              "      <td>d1mm9tcy42</td>\n",
              "      <td>lookup</td>\n",
              "      <td>NaN</td>\n",
              "      <td>NaN</td>\n",
              "      <td>Windows Desktop</td>\n",
              "      <td>115.0</td>\n",
              "    </tr>\n",
              "    <tr>\n",
              "      <th>9</th>\n",
              "      <td>d1mm9tcy42</td>\n",
              "      <td>lookup</td>\n",
              "      <td>NaN</td>\n",
              "      <td>NaN</td>\n",
              "      <td>Windows Desktop</td>\n",
              "      <td>683.0</td>\n",
              "    </tr>\n",
              "  </tbody>\n",
              "</table>\n",
              "</div>"
            ],
            "text/plain": [
              "      user_id  action action_type action_detail      device_type  secs_elapsed\n",
              "0  d1mm9tcy42  lookup         NaN           NaN  Windows Desktop         319.0\n",
              "2  d1mm9tcy42  lookup         NaN           NaN  Windows Desktop         301.0\n",
              "4  d1mm9tcy42  lookup         NaN           NaN  Windows Desktop         435.0\n",
              "6  d1mm9tcy42  lookup         NaN           NaN  Windows Desktop         115.0\n",
              "9  d1mm9tcy42  lookup         NaN           NaN  Windows Desktop         683.0"
            ]
          },
          "metadata": {
            "tags": []
          },
          "execution_count": 23
        }
      ]
    },
    {
      "cell_type": "code",
      "metadata": {
        "id": "czMUERU-Vsq1",
        "colab_type": "code",
        "colab": {
          "base_uri": "https://localhost:8080/",
          "height": 35
        },
        "outputId": "07991a9e-53eb-4ac7-e9f0-918e9b1de162"
      },
      "source": [
        "no_action.shape"
      ],
      "execution_count": null,
      "outputs": [
        {
          "output_type": "execute_result",
          "data": {
            "text/plain": [
              "(1205830, 6)"
            ]
          },
          "metadata": {
            "tags": []
          },
          "execution_count": 24
        }
      ]
    },
    {
      "cell_type": "markdown",
      "metadata": {
        "id": "kFfJ1jSEkLsR",
        "colab_type": "text"
      },
      "source": [
        "Device types used to access irbnb"
      ]
    },
    {
      "cell_type": "code",
      "metadata": {
        "id": "Xadl6cmvkKsS",
        "colab_type": "code",
        "colab": {
          "base_uri": "https://localhost:8080/",
          "height": 277
        },
        "outputId": "7a83373e-e5c2-4a75-f71e-caa5f240bd91"
      },
      "source": [
        "sessions['device_type'].value_counts()"
      ],
      "execution_count": null,
      "outputs": [
        {
          "output_type": "execute_result",
          "data": {
            "text/plain": [
              "Mac Desktop                         3594286\n",
              "Windows Desktop                     2658539\n",
              "iPhone                              2105031\n",
              "Android Phone                        839637\n",
              "iPad Tablet                          683414\n",
              "Android App Unknown Phone/Tablet     273652\n",
              "-unknown-                            211279\n",
              "Tablet                               139886\n",
              "Linux Desktop                         28373\n",
              "Chromebook                            22348\n",
              "iPodtouch                              8198\n",
              "Windows Phone                          2047\n",
              "Blackberry                              979\n",
              "Opera Phone                              68\n",
              "Name: device_type, dtype: int64"
            ]
          },
          "metadata": {
            "tags": []
          },
          "execution_count": 25
        }
      ]
    },
    {
      "cell_type": "markdown",
      "metadata": {
        "id": "OiEKwV7fksxp",
        "colab_type": "text"
      },
      "source": [
        "activities without any device information"
      ]
    },
    {
      "cell_type": "code",
      "metadata": {
        "id": "T_cY1prwkYZZ",
        "colab_type": "code",
        "colab": {
          "base_uri": "https://localhost:8080/",
          "height": 35
        },
        "outputId": "a4f3d9c7-e7a7-499c-e2bb-9e5dfcd2a556"
      },
      "source": [
        "len(sessions[sessions['device_type'].isnull()])"
      ],
      "execution_count": null,
      "outputs": [
        {
          "output_type": "execute_result",
          "data": {
            "text/plain": [
              "0"
            ]
          },
          "metadata": {
            "tags": []
          },
          "execution_count": 26
        }
      ]
    },
    {
      "cell_type": "markdown",
      "metadata": {
        "id": "us1Mbajpltq_",
        "colab_type": "text"
      },
      "source": [
        "These are no sessions from unknown devices"
      ]
    },
    {
      "cell_type": "markdown",
      "metadata": {
        "id": "NASaglJalzB7",
        "colab_type": "text"
      },
      "source": [
        "**let us now analyse training users data for which we have to prediction their first destination**"
      ]
    },
    {
      "cell_type": "code",
      "metadata": {
        "id": "JNGB4vWdkxp0",
        "colab_type": "code",
        "colab": {
          "base_uri": "https://localhost:8080/",
          "height": 257
        },
        "outputId": "09000435-63a7-40d1-e132-a9595453d925"
      },
      "source": [
        "train_users=pd.read_csv(\"/content/drive/My Drive/Data/airbnb/train_users_2.csv\")\n",
        "train_users.head()\n"
      ],
      "execution_count": null,
      "outputs": [
        {
          "output_type": "execute_result",
          "data": {
            "text/html": [
              "<div>\n",
              "<style scoped>\n",
              "    .dataframe tbody tr th:only-of-type {\n",
              "        vertical-align: middle;\n",
              "    }\n",
              "\n",
              "    .dataframe tbody tr th {\n",
              "        vertical-align: top;\n",
              "    }\n",
              "\n",
              "    .dataframe thead th {\n",
              "        text-align: right;\n",
              "    }\n",
              "</style>\n",
              "<table border=\"1\" class=\"dataframe\">\n",
              "  <thead>\n",
              "    <tr style=\"text-align: right;\">\n",
              "      <th></th>\n",
              "      <th>id</th>\n",
              "      <th>date_account_created</th>\n",
              "      <th>timestamp_first_active</th>\n",
              "      <th>date_first_booking</th>\n",
              "      <th>gender</th>\n",
              "      <th>age</th>\n",
              "      <th>signup_method</th>\n",
              "      <th>signup_flow</th>\n",
              "      <th>language</th>\n",
              "      <th>affiliate_channel</th>\n",
              "      <th>affiliate_provider</th>\n",
              "      <th>first_affiliate_tracked</th>\n",
              "      <th>signup_app</th>\n",
              "      <th>first_device_type</th>\n",
              "      <th>first_browser</th>\n",
              "      <th>country_destination</th>\n",
              "    </tr>\n",
              "  </thead>\n",
              "  <tbody>\n",
              "    <tr>\n",
              "      <th>0</th>\n",
              "      <td>gxn3p5htnn</td>\n",
              "      <td>2010-06-28</td>\n",
              "      <td>20090319043255</td>\n",
              "      <td>NaN</td>\n",
              "      <td>-unknown-</td>\n",
              "      <td>NaN</td>\n",
              "      <td>facebook</td>\n",
              "      <td>0</td>\n",
              "      <td>en</td>\n",
              "      <td>direct</td>\n",
              "      <td>direct</td>\n",
              "      <td>untracked</td>\n",
              "      <td>Web</td>\n",
              "      <td>Mac Desktop</td>\n",
              "      <td>Chrome</td>\n",
              "      <td>NDF</td>\n",
              "    </tr>\n",
              "    <tr>\n",
              "      <th>1</th>\n",
              "      <td>820tgsjxq7</td>\n",
              "      <td>2011-05-25</td>\n",
              "      <td>20090523174809</td>\n",
              "      <td>NaN</td>\n",
              "      <td>MALE</td>\n",
              "      <td>38.0</td>\n",
              "      <td>facebook</td>\n",
              "      <td>0</td>\n",
              "      <td>en</td>\n",
              "      <td>seo</td>\n",
              "      <td>google</td>\n",
              "      <td>untracked</td>\n",
              "      <td>Web</td>\n",
              "      <td>Mac Desktop</td>\n",
              "      <td>Chrome</td>\n",
              "      <td>NDF</td>\n",
              "    </tr>\n",
              "    <tr>\n",
              "      <th>2</th>\n",
              "      <td>4ft3gnwmtx</td>\n",
              "      <td>2010-09-28</td>\n",
              "      <td>20090609231247</td>\n",
              "      <td>2010-08-02</td>\n",
              "      <td>FEMALE</td>\n",
              "      <td>56.0</td>\n",
              "      <td>basic</td>\n",
              "      <td>3</td>\n",
              "      <td>en</td>\n",
              "      <td>direct</td>\n",
              "      <td>direct</td>\n",
              "      <td>untracked</td>\n",
              "      <td>Web</td>\n",
              "      <td>Windows Desktop</td>\n",
              "      <td>IE</td>\n",
              "      <td>US</td>\n",
              "    </tr>\n",
              "    <tr>\n",
              "      <th>3</th>\n",
              "      <td>bjjt8pjhuk</td>\n",
              "      <td>2011-12-05</td>\n",
              "      <td>20091031060129</td>\n",
              "      <td>2012-09-08</td>\n",
              "      <td>FEMALE</td>\n",
              "      <td>42.0</td>\n",
              "      <td>facebook</td>\n",
              "      <td>0</td>\n",
              "      <td>en</td>\n",
              "      <td>direct</td>\n",
              "      <td>direct</td>\n",
              "      <td>untracked</td>\n",
              "      <td>Web</td>\n",
              "      <td>Mac Desktop</td>\n",
              "      <td>Firefox</td>\n",
              "      <td>other</td>\n",
              "    </tr>\n",
              "    <tr>\n",
              "      <th>4</th>\n",
              "      <td>87mebub9p4</td>\n",
              "      <td>2010-09-14</td>\n",
              "      <td>20091208061105</td>\n",
              "      <td>2010-02-18</td>\n",
              "      <td>-unknown-</td>\n",
              "      <td>41.0</td>\n",
              "      <td>basic</td>\n",
              "      <td>0</td>\n",
              "      <td>en</td>\n",
              "      <td>direct</td>\n",
              "      <td>direct</td>\n",
              "      <td>untracked</td>\n",
              "      <td>Web</td>\n",
              "      <td>Mac Desktop</td>\n",
              "      <td>Chrome</td>\n",
              "      <td>US</td>\n",
              "    </tr>\n",
              "  </tbody>\n",
              "</table>\n",
              "</div>"
            ],
            "text/plain": [
              "           id date_account_created  ...  first_browser country_destination\n",
              "0  gxn3p5htnn           2010-06-28  ...         Chrome                 NDF\n",
              "1  820tgsjxq7           2011-05-25  ...         Chrome                 NDF\n",
              "2  4ft3gnwmtx           2010-09-28  ...             IE                  US\n",
              "3  bjjt8pjhuk           2011-12-05  ...        Firefox               other\n",
              "4  87mebub9p4           2010-09-14  ...         Chrome                  US\n",
              "\n",
              "[5 rows x 16 columns]"
            ]
          },
          "metadata": {
            "tags": []
          },
          "execution_count": 27
        }
      ]
    },
    {
      "cell_type": "code",
      "metadata": {
        "id": "DtnWIqYizBTy",
        "colab_type": "code",
        "colab": {}
      },
      "source": [
        ""
      ],
      "execution_count": null,
      "outputs": []
    },
    {
      "cell_type": "markdown",
      "metadata": {
        "id": "4vnGxd7koLwI",
        "colab_type": "text"
      },
      "source": [
        "replacing unknown values in gender and first browser "
      ]
    },
    {
      "cell_type": "code",
      "metadata": {
        "id": "s_gZ_vNMmHfx",
        "colab_type": "code",
        "colab": {}
      },
      "source": [
        "train_users['gender']=train_users['gender'].replace('-unknown-',np.nan)\n",
        "train_users['first_browser']=train_users['first_browser'].replace('-unknown-',np.nan)"
      ],
      "execution_count": null,
      "outputs": []
    },
    {
      "cell_type": "code",
      "metadata": {
        "id": "_BryvoXY0AwS",
        "colab_type": "code",
        "colab": {
          "base_uri": "https://localhost:8080/",
          "height": 69
        },
        "outputId": "7e1bac6a-b9ae-4742-f6ad-d1ec0f196f39"
      },
      "source": [
        "train_users[train_users['age']>120]"
      ],
      "execution_count": null,
      "outputs": [
        {
          "output_type": "execute_result",
          "data": {
            "text/html": [
              "<div>\n",
              "<style scoped>\n",
              "    .dataframe tbody tr th:only-of-type {\n",
              "        vertical-align: middle;\n",
              "    }\n",
              "\n",
              "    .dataframe tbody tr th {\n",
              "        vertical-align: top;\n",
              "    }\n",
              "\n",
              "    .dataframe thead th {\n",
              "        text-align: right;\n",
              "    }\n",
              "</style>\n",
              "<table border=\"1\" class=\"dataframe\">\n",
              "  <thead>\n",
              "    <tr style=\"text-align: right;\">\n",
              "      <th></th>\n",
              "      <th>id</th>\n",
              "      <th>date_account_created</th>\n",
              "      <th>timestamp_first_active</th>\n",
              "      <th>date_first_booking</th>\n",
              "      <th>gender</th>\n",
              "      <th>age</th>\n",
              "      <th>signup_method</th>\n",
              "      <th>signup_flow</th>\n",
              "      <th>language</th>\n",
              "      <th>affiliate_channel</th>\n",
              "      <th>affiliate_provider</th>\n",
              "      <th>first_affiliate_tracked</th>\n",
              "      <th>signup_app</th>\n",
              "      <th>first_device_type</th>\n",
              "      <th>first_browser</th>\n",
              "      <th>country_destination</th>\n",
              "    </tr>\n",
              "  </thead>\n",
              "  <tbody>\n",
              "  </tbody>\n",
              "</table>\n",
              "</div>"
            ],
            "text/plain": [
              "Empty DataFrame\n",
              "Columns: [id, date_account_created, timestamp_first_active, date_first_booking, gender, age, signup_method, signup_flow, language, affiliate_channel, affiliate_provider, first_affiliate_tracked, signup_app, first_device_type, first_browser, country_destination]\n",
              "Index: []"
            ]
          },
          "metadata": {
            "tags": []
          },
          "execution_count": 117
        }
      ]
    },
    {
      "cell_type": "markdown",
      "metadata": {
        "id": "HL979N9J1aC8",
        "colab_type": "text"
      },
      "source": [
        "We can see there are age values much greater than 104. these wrong age values will affect the analysis so let us replace these values with NAN"
      ]
    },
    {
      "cell_type": "code",
      "metadata": {
        "id": "luUwRX2o1rbK",
        "colab_type": "code",
        "colab": {}
      },
      "source": [
        "train_users['age']=train_users['age'].apply(lambda x:np.nan if x>120 else x)"
      ],
      "execution_count": null,
      "outputs": []
    },
    {
      "cell_type": "code",
      "metadata": {
        "id": "6KMpKW5Z15Dh",
        "colab_type": "code",
        "colab": {
          "base_uri": "https://localhost:8080/",
          "height": 69
        },
        "outputId": "6a379bb3-4d3c-4dbb-fe08-8c331fe9ea34"
      },
      "source": [
        "train_users[train_users['age']>115]"
      ],
      "execution_count": null,
      "outputs": [
        {
          "output_type": "execute_result",
          "data": {
            "text/html": [
              "<div>\n",
              "<style scoped>\n",
              "    .dataframe tbody tr th:only-of-type {\n",
              "        vertical-align: middle;\n",
              "    }\n",
              "\n",
              "    .dataframe tbody tr th {\n",
              "        vertical-align: top;\n",
              "    }\n",
              "\n",
              "    .dataframe thead th {\n",
              "        text-align: right;\n",
              "    }\n",
              "</style>\n",
              "<table border=\"1\" class=\"dataframe\">\n",
              "  <thead>\n",
              "    <tr style=\"text-align: right;\">\n",
              "      <th></th>\n",
              "      <th>id</th>\n",
              "      <th>date_account_created</th>\n",
              "      <th>timestamp_first_active</th>\n",
              "      <th>date_first_booking</th>\n",
              "      <th>gender</th>\n",
              "      <th>age</th>\n",
              "      <th>signup_method</th>\n",
              "      <th>signup_flow</th>\n",
              "      <th>language</th>\n",
              "      <th>affiliate_channel</th>\n",
              "      <th>affiliate_provider</th>\n",
              "      <th>first_affiliate_tracked</th>\n",
              "      <th>signup_app</th>\n",
              "      <th>first_device_type</th>\n",
              "      <th>first_browser</th>\n",
              "      <th>country_destination</th>\n",
              "    </tr>\n",
              "  </thead>\n",
              "  <tbody>\n",
              "  </tbody>\n",
              "</table>\n",
              "</div>"
            ],
            "text/plain": [
              "Empty DataFrame\n",
              "Columns: [id, date_account_created, timestamp_first_active, date_first_booking, gender, age, signup_method, signup_flow, language, affiliate_channel, affiliate_provider, first_affiliate_tracked, signup_app, first_device_type, first_browser, country_destination]\n",
              "Index: []"
            ]
          },
          "metadata": {
            "tags": []
          },
          "execution_count": 114
        }
      ]
    },
    {
      "cell_type": "markdown",
      "metadata": {
        "id": "oQP1yCYly2_8",
        "colab_type": "text"
      },
      "source": [
        "Finding all the columns which have null values"
      ]
    },
    {
      "cell_type": "code",
      "metadata": {
        "id": "slv0CzXemuF9",
        "colab_type": "code",
        "colab": {
          "base_uri": "https://localhost:8080/",
          "height": 312
        },
        "outputId": "0f356513-4059-4c2e-a6e0-eaaaa12573a9"
      },
      "source": [
        "train_users.isna().any()"
      ],
      "execution_count": null,
      "outputs": [
        {
          "output_type": "execute_result",
          "data": {
            "text/plain": [
              "id                         False\n",
              "date_account_created       False\n",
              "timestamp_first_active     False\n",
              "date_first_booking          True\n",
              "gender                      True\n",
              "age                         True\n",
              "signup_method              False\n",
              "signup_flow                False\n",
              "language                   False\n",
              "affiliate_channel          False\n",
              "affiliate_provider         False\n",
              "first_affiliate_tracked     True\n",
              "signup_app                 False\n",
              "first_device_type          False\n",
              "first_browser               True\n",
              "country_destination        False\n",
              "dtype: bool"
            ]
          },
          "metadata": {
            "tags": []
          },
          "execution_count": 32
        }
      ]
    },
    {
      "cell_type": "markdown",
      "metadata": {
        "id": "ChEvNhtryx3R",
        "colab_type": "text"
      },
      "source": [
        "Changing data type of date"
      ]
    },
    {
      "cell_type": "code",
      "metadata": {
        "id": "5Cz1f-ByrdcT",
        "colab_type": "code",
        "colab": {}
      },
      "source": [
        "df_accounts=train_users.groupby('date_account_created')['id'].count().reset_index()\n",
        "df_accounts['date_account_created'] = df_accounts['date_account_created'].astype('datetime64[ns]') "
      ],
      "execution_count": null,
      "outputs": []
    },
    {
      "cell_type": "markdown",
      "metadata": {
        "id": "fQZyLZSWyuPV",
        "colab_type": "text"
      },
      "source": [
        "Number of new accounts created each year"
      ]
    },
    {
      "cell_type": "code",
      "metadata": {
        "id": "7j9xzLNqtM3x",
        "colab_type": "code",
        "colab": {
          "base_uri": "https://localhost:8080/",
          "height": 121
        },
        "outputId": "981b7b1e-4966-47ff-d12e-54a4e49c2678"
      },
      "source": [
        "df_accounts['date_account_created'].dt.year.value_counts()\n"
      ],
      "execution_count": null,
      "outputs": [
        {
          "output_type": "execute_result",
          "data": {
            "text/plain": [
              "2012    366\n",
              "2013    365\n",
              "2011    365\n",
              "2010    357\n",
              "2014    181\n",
              "Name: date_account_created, dtype: int64"
            ]
          },
          "metadata": {
            "tags": []
          },
          "execution_count": 71
        }
      ]
    },
    {
      "cell_type": "markdown",
      "metadata": {
        "id": "vYlkZF_DbYbi",
        "colab_type": "text"
      },
      "source": [
        "Statistical Analysis on the data"
      ]
    },
    {
      "cell_type": "code",
      "metadata": {
        "id": "lryHbYRPbagh",
        "colab_type": "code",
        "colab": {}
      },
      "source": [
        ""
      ],
      "execution_count": null,
      "outputs": []
    }
  ]
}