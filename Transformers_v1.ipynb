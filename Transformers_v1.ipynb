{
  "nbformat": 4,
  "nbformat_minor": 0,
  "metadata": {
    "colab": {
      "name": "Transformers_v1.ipynb",
      "provenance": [],
      "mount_file_id": "1qNM5G9nmXtDHVS_Pwf6cwDK4znHjlzuV",
      "authorship_tag": "ABX9TyOxY7iheMpoL9VKQxsQ2/Jz",
      "include_colab_link": true
    },
    "kernelspec": {
      "name": "python3",
      "display_name": "Python 3"
    }
  },
  "cells": [
    {
      "cell_type": "markdown",
      "metadata": {
        "id": "view-in-github",
        "colab_type": "text"
      },
      "source": [
        "<a href=\"https://colab.research.google.com/github/vkgithub1556/AirbnbProject/blob/master/Transformers_v1.ipynb\" target=\"_parent\"><img src=\"https://colab.research.google.com/assets/colab-badge.svg\" alt=\"Open In Colab\"/></a>"
      ]
    },
    {
      "cell_type": "code",
      "metadata": {
        "id": "wNhqYHf4EqL6"
      },
      "source": [
        "import pandas as pd\n",
        "import math\n",
        "import numpy as np\n",
        "from scipy.special import gamma\n"
      ],
      "execution_count": 1,
      "outputs": []
    },
    {
      "cell_type": "code",
      "metadata": {
        "id": "Y7aK25GzEyhY"
      },
      "source": [
        "data = pd.read_csv('/content/drive/MyDrive/Data/transformers/subset_ensemble_BCCAQv2_53.532_-113.516_365_day.csv')"
      ],
      "execution_count": 2,
      "outputs": []
    },
    {
      "cell_type": "code",
      "metadata": {
        "id": "yys6K_2JF5xB"
      },
      "source": [
        "data = data.groupby('time').mean().reset_index()\n",
        "data['time'] =  pd.to_datetime(data['time'])\n",
        "data['Year'] = data['time'].dt.year"
      ],
      "execution_count": 3,
      "outputs": []
    },
    {
      "cell_type": "code",
      "metadata": {
        "id": "Rcng-IWzFW1z"
      },
      "source": [
        "canESM2 = pd.DataFrame()\n",
        "canESM2 = data.filter(['time','Year','tasmax_CanESM2_historical_rcp85_(degC)',\n",
        "       'tasmax_CanESM2_historical_rcp45_(degC)',\n",
        "       'tasmax_CanESM2_historical_rcp26_(degC)'],axis=1)"
      ],
      "execution_count": 4,
      "outputs": []
    },
    {
      "cell_type": "code",
      "metadata": {
        "id": "lQWKWXtkZ6iH"
      },
      "source": [
        "canESM2_85 = pd.DataFrame(data=canESM2.filter(['time','Year','tasmax_CanESM2_historical_rcp85_(degC)']))\n",
        "canESM2_45 = pd.DataFrame(data=canESM2.filter(['time','Year','tasmax_CanESM2_historical_rcp45_(degC)']))\n",
        "canESM2_26 = pd.DataFrame(data=canESM2.filter(['time','Year','tasmax_CanESM2_historical_rcp26_(degC)']))"
      ],
      "execution_count": 5,
      "outputs": []
    },
    {
      "cell_type": "code",
      "metadata": {
        "id": "9yc8KjjvHHXU"
      },
      "source": [
        "canESM2_85 = canESM2_85[(canESM2_85['tasmax_CanESM2_historical_rcp85_(degC)']>25) & (canESM2_85['Year'] > 2020)].reset_index(drop=True)\n",
        "canESM2_45 = canESM2_45[(canESM2_45['tasmax_CanESM2_historical_rcp45_(degC)']>25) & (canESM2_45['Year'] > 2020)].reset_index(drop=True)\n",
        "canESM2_26 = canESM2_26[(canESM2_26['tasmax_CanESM2_historical_rcp26_(degC)']>25) & (canESM2_26['Year'] > 2020)].reset_index(drop=True)"
      ],
      "execution_count": 6,
      "outputs": []
    },
    {
      "cell_type": "code",
      "metadata": {
        "id": "f42cGtPZM04H"
      },
      "source": [
        "def life_expectancy(df,temperature):\n",
        " df['FAA'] = np.exp((15000/383)-(15000/(df[temperature]+65+273)))\n",
        " df['FAA_Cummulative'] = df.groupby('Year').cumsum()['FAA']\n",
        "\n",
        " LOL = df.groupby('Year').tail(1).reset_index(drop=True)[['Year','FAA_Cummulative']]\n",
        "\n",
        " LOL['Days_gt_25degC'] = df.groupby('Year').count().reset_index()[temperature]\n",
        " LOL['LossOfLife_Percentage'] = (((LOL['FAA_Cummulative']/LOL['Days_gt_25degC'])*100)/20.55)\n",
        " LOL['LossOfLife_Percentage_wrt2021'] = LOL.LossOfLife_Percentage[0] - LOL['LossOfLife_Percentage']\n",
        " return(LOL)"
      ],
      "execution_count": 7,
      "outputs": []
    },
    {
      "cell_type": "code",
      "metadata": {
        "colab": {
          "base_uri": "https://localhost:8080/",
          "height": 415
        },
        "id": "rH31MZ5NP2Cp",
        "outputId": "d42906f8-8ceb-47b4-db9d-b1d8f556e1bb"
      },
      "source": [
        "life_expectancy(canESM2_85,'tasmax_CanESM2_historical_rcp85_(degC)')"
      ],
      "execution_count": 8,
      "outputs": [
        {
          "output_type": "execute_result",
          "data": {
            "text/html": [
              "<div>\n",
              "<style scoped>\n",
              "    .dataframe tbody tr th:only-of-type {\n",
              "        vertical-align: middle;\n",
              "    }\n",
              "\n",
              "    .dataframe tbody tr th {\n",
              "        vertical-align: top;\n",
              "    }\n",
              "\n",
              "    .dataframe thead th {\n",
              "        text-align: right;\n",
              "    }\n",
              "</style>\n",
              "<table border=\"1\" class=\"dataframe\">\n",
              "  <thead>\n",
              "    <tr style=\"text-align: right;\">\n",
              "      <th></th>\n",
              "      <th>Year</th>\n",
              "      <th>FAA_Cummulative</th>\n",
              "      <th>Days_gt_25degC</th>\n",
              "      <th>LossOfLife_Percentage</th>\n",
              "      <th>LossOfLife_Percentage_wrt2021</th>\n",
              "    </tr>\n",
              "  </thead>\n",
              "  <tbody>\n",
              "    <tr>\n",
              "      <th>0</th>\n",
              "      <td>2021</td>\n",
              "      <td>3.848982</td>\n",
              "      <td>28</td>\n",
              "      <td>0.668923</td>\n",
              "      <td>0.000000</td>\n",
              "    </tr>\n",
              "    <tr>\n",
              "      <th>1</th>\n",
              "      <td>2022</td>\n",
              "      <td>12.028137</td>\n",
              "      <td>73</td>\n",
              "      <td>0.801796</td>\n",
              "      <td>-0.132873</td>\n",
              "    </tr>\n",
              "    <tr>\n",
              "      <th>2</th>\n",
              "      <td>2023</td>\n",
              "      <td>12.295067</td>\n",
              "      <td>69</td>\n",
              "      <td>0.867102</td>\n",
              "      <td>-0.198179</td>\n",
              "    </tr>\n",
              "    <tr>\n",
              "      <th>3</th>\n",
              "      <td>2024</td>\n",
              "      <td>9.769152</td>\n",
              "      <td>59</td>\n",
              "      <td>0.805736</td>\n",
              "      <td>-0.136814</td>\n",
              "    </tr>\n",
              "    <tr>\n",
              "      <th>4</th>\n",
              "      <td>2025</td>\n",
              "      <td>11.797735</td>\n",
              "      <td>65</td>\n",
              "      <td>0.883229</td>\n",
              "      <td>-0.214306</td>\n",
              "    </tr>\n",
              "    <tr>\n",
              "      <th>...</th>\n",
              "      <td>...</td>\n",
              "      <td>...</td>\n",
              "      <td>...</td>\n",
              "      <td>...</td>\n",
              "      <td>...</td>\n",
              "    </tr>\n",
              "    <tr>\n",
              "      <th>75</th>\n",
              "      <td>2096</td>\n",
              "      <td>38.318558</td>\n",
              "      <td>126</td>\n",
              "      <td>1.479881</td>\n",
              "      <td>-0.810958</td>\n",
              "    </tr>\n",
              "    <tr>\n",
              "      <th>76</th>\n",
              "      <td>2097</td>\n",
              "      <td>30.292487</td>\n",
              "      <td>113</td>\n",
              "      <td>1.304502</td>\n",
              "      <td>-0.635579</td>\n",
              "    </tr>\n",
              "    <tr>\n",
              "      <th>77</th>\n",
              "      <td>2098</td>\n",
              "      <td>37.845486</td>\n",
              "      <td>126</td>\n",
              "      <td>1.461611</td>\n",
              "      <td>-0.792688</td>\n",
              "    </tr>\n",
              "    <tr>\n",
              "      <th>78</th>\n",
              "      <td>2099</td>\n",
              "      <td>45.336633</td>\n",
              "      <td>127</td>\n",
              "      <td>1.737136</td>\n",
              "      <td>-1.068213</td>\n",
              "    </tr>\n",
              "    <tr>\n",
              "      <th>79</th>\n",
              "      <td>2100</td>\n",
              "      <td>37.967723</td>\n",
              "      <td>131</td>\n",
              "      <td>1.410365</td>\n",
              "      <td>-0.741442</td>\n",
              "    </tr>\n",
              "  </tbody>\n",
              "</table>\n",
              "<p>80 rows × 5 columns</p>\n",
              "</div>"
            ],
            "text/plain": [
              "    Year  FAA_Cummulative  ...  LossOfLife_Percentage  LossOfLife_Percentage_wrt2021\n",
              "0   2021         3.848982  ...               0.668923                       0.000000\n",
              "1   2022        12.028137  ...               0.801796                      -0.132873\n",
              "2   2023        12.295067  ...               0.867102                      -0.198179\n",
              "3   2024         9.769152  ...               0.805736                      -0.136814\n",
              "4   2025        11.797735  ...               0.883229                      -0.214306\n",
              "..   ...              ...  ...                    ...                            ...\n",
              "75  2096        38.318558  ...               1.479881                      -0.810958\n",
              "76  2097        30.292487  ...               1.304502                      -0.635579\n",
              "77  2098        37.845486  ...               1.461611                      -0.792688\n",
              "78  2099        45.336633  ...               1.737136                      -1.068213\n",
              "79  2100        37.967723  ...               1.410365                      -0.741442\n",
              "\n",
              "[80 rows x 5 columns]"
            ]
          },
          "metadata": {
            "tags": []
          },
          "execution_count": 8
        }
      ]
    },
    {
      "cell_type": "code",
      "metadata": {
        "colab": {
          "base_uri": "https://localhost:8080/",
          "height": 415
        },
        "id": "EE4x_jOGT7wf",
        "outputId": "6e3c5650-a2d3-4a54-85f4-14ca335b3863"
      },
      "source": [
        "canESM2_85.groupby('Year').tail(1).reset_index(drop=True)[['Year','FAA_Cummulative']]"
      ],
      "execution_count": 9,
      "outputs": [
        {
          "output_type": "execute_result",
          "data": {
            "text/html": [
              "<div>\n",
              "<style scoped>\n",
              "    .dataframe tbody tr th:only-of-type {\n",
              "        vertical-align: middle;\n",
              "    }\n",
              "\n",
              "    .dataframe tbody tr th {\n",
              "        vertical-align: top;\n",
              "    }\n",
              "\n",
              "    .dataframe thead th {\n",
              "        text-align: right;\n",
              "    }\n",
              "</style>\n",
              "<table border=\"1\" class=\"dataframe\">\n",
              "  <thead>\n",
              "    <tr style=\"text-align: right;\">\n",
              "      <th></th>\n",
              "      <th>Year</th>\n",
              "      <th>FAA_Cummulative</th>\n",
              "    </tr>\n",
              "  </thead>\n",
              "  <tbody>\n",
              "    <tr>\n",
              "      <th>0</th>\n",
              "      <td>2021</td>\n",
              "      <td>3.848982</td>\n",
              "    </tr>\n",
              "    <tr>\n",
              "      <th>1</th>\n",
              "      <td>2022</td>\n",
              "      <td>12.028137</td>\n",
              "    </tr>\n",
              "    <tr>\n",
              "      <th>2</th>\n",
              "      <td>2023</td>\n",
              "      <td>12.295067</td>\n",
              "    </tr>\n",
              "    <tr>\n",
              "      <th>3</th>\n",
              "      <td>2024</td>\n",
              "      <td>9.769152</td>\n",
              "    </tr>\n",
              "    <tr>\n",
              "      <th>4</th>\n",
              "      <td>2025</td>\n",
              "      <td>11.797735</td>\n",
              "    </tr>\n",
              "    <tr>\n",
              "      <th>...</th>\n",
              "      <td>...</td>\n",
              "      <td>...</td>\n",
              "    </tr>\n",
              "    <tr>\n",
              "      <th>75</th>\n",
              "      <td>2096</td>\n",
              "      <td>38.318558</td>\n",
              "    </tr>\n",
              "    <tr>\n",
              "      <th>76</th>\n",
              "      <td>2097</td>\n",
              "      <td>30.292487</td>\n",
              "    </tr>\n",
              "    <tr>\n",
              "      <th>77</th>\n",
              "      <td>2098</td>\n",
              "      <td>37.845486</td>\n",
              "    </tr>\n",
              "    <tr>\n",
              "      <th>78</th>\n",
              "      <td>2099</td>\n",
              "      <td>45.336633</td>\n",
              "    </tr>\n",
              "    <tr>\n",
              "      <th>79</th>\n",
              "      <td>2100</td>\n",
              "      <td>37.967723</td>\n",
              "    </tr>\n",
              "  </tbody>\n",
              "</table>\n",
              "<p>80 rows × 2 columns</p>\n",
              "</div>"
            ],
            "text/plain": [
              "    Year  FAA_Cummulative\n",
              "0   2021         3.848982\n",
              "1   2022        12.028137\n",
              "2   2023        12.295067\n",
              "3   2024         9.769152\n",
              "4   2025        11.797735\n",
              "..   ...              ...\n",
              "75  2096        38.318558\n",
              "76  2097        30.292487\n",
              "77  2098        37.845486\n",
              "78  2099        45.336633\n",
              "79  2100        37.967723\n",
              "\n",
              "[80 rows x 2 columns]"
            ]
          },
          "metadata": {
            "tags": []
          },
          "execution_count": 9
        }
      ]
    },
    {
      "cell_type": "code",
      "metadata": {
        "id": "Y7nqGmzuQaUC"
      },
      "source": [
        ""
      ],
      "execution_count": 9,
      "outputs": []
    }
  ]
}